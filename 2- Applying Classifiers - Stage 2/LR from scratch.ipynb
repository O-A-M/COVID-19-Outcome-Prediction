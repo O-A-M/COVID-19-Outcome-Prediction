{
 "cells": [
  {
   "cell_type": "code",
   "execution_count": 3,
   "metadata": {
    "colab": {
     "base_uri": "https://localhost:8080/"
    },
    "executionInfo": {
     "elapsed": 3541,
     "status": "ok",
     "timestamp": 1643260683542,
     "user": {
      "displayName": "Osama Ali",
      "photoUrl": "https://lh3.googleusercontent.com/a-/AOh14Ggw__F78DMQDtoJko1E4yI-bs7l5V7iWEzSSZnF=s64",
      "userId": "16354773334559988869"
     },
     "user_tz": -120
    },
    "id": "7N-6pjHQ8YNH",
    "outputId": "1258f3e9-6749-4d9c-9a08-14a2f30e755c"
   },
   "outputs": [
    {
     "name": "stdout",
     "output_type": "stream",
     "text": [
      "LR classification accuracy: 0.8670520231213873\n"
     ]
    }
   ],
   "source": [
    "import numpy as np\n",
    "\n",
    "\n",
    "class LogisticRegression:\n",
    "    def __init__(self, learning_rate=0.001, n_iters=1000):\n",
    "        self.lr = learning_rate\n",
    "        self.n_iters = n_iters\n",
    "        self.weights = None\n",
    "        self.bias = None\n",
    "\n",
    "    def fit(self, X, y):\n",
    "        n_samples, n_features = X.shape\n",
    "\n",
    "        # init parameters\n",
    "        self.weights = np.zeros(n_features)\n",
    "        self.bias = 0\n",
    "\n",
    "        # gradient descent\n",
    "        for _ in range(self.n_iters):\n",
    "            # approximate y with linear combination of weights and x, plus bias\n",
    "            linear_model = np.dot(X, self.weights) + self.bias\n",
    "            # apply sigmoid function\n",
    "            y_predicted = self._sigmoid(linear_model)\n",
    "\n",
    "            # compute gradients\n",
    "            dw = (1 / n_samples) * np.dot(X.T, (y_predicted - y))\n",
    "            db = (1 / n_samples) * np.sum(y_predicted - y)\n",
    "            # update parameters\n",
    "            self.weights -= self.lr * dw\n",
    "            self.bias -= self.lr * db\n",
    "\n",
    "    def predict(self, X):\n",
    "        linear_model = np.dot(X, self.weights) + self.bias\n",
    "        y_predicted = self._sigmoid(linear_model)\n",
    "        y_predicted_cls = [1 if i > 0.5 else 0 for i in y_predicted]\n",
    "        return np.array(y_predicted_cls)\n",
    "\n",
    "    def _sigmoid(self, x):\n",
    "        return 1 / (1 + np.exp(-x))\n",
    "\n",
    "\n",
    "# Testing\n",
    "if __name__ == \"__main__\":\n",
    "    # Imports\n",
    "    from sklearn.model_selection import train_test_split\n",
    "    # from sklearn import datasets\n",
    "    import pandas as pd\n",
    "\n",
    "    def accuracy(y_true, y_pred):\n",
    "        accuracy = np.sum(y_true == y_pred) / len(y_true)\n",
    "        return accuracy\n",
    "\n",
    "    bc = pd.read_csv('encoded_data.csv', index_col=0)\n",
    "    X, y = bc, bc.result\n",
    "\n",
    "    X_train, X_test, y_train, y_test = train_test_split(\n",
    "        X, y, test_size=0.2, random_state=1234\n",
    "    )\n",
    "\n",
    "    classifier = LogisticRegression(learning_rate=0.0001, n_iters=1000)\n",
    "    classifier.fit(X_train, y_train)\n",
    "    predictions = classifier.predict(X_test)\n",
    "\n",
    "    print(\"LR classification accuracy:\", accuracy(y_test, predictions))"
   ]
  },
  {
   "cell_type": "markdown",
   "id": "6fc81070",
   "metadata": {
    "id": "yyxW5b395mR2"
   },
   "source": [
    "## Predicting a new result"
   ]
  },
  {
   "cell_type": "code",
   "execution_count": 4,
   "id": "11eb7bdb",
   "metadata": {
    "id": "f8YOXsQy58rP"
   },
   "outputs": [],
   "source": [
    "y_pred = classifier.predict(X_test)"
   ]
  },
  {
   "cell_type": "code",
   "execution_count": 6,
   "id": "4b6d182a",
   "metadata": {
    "colab": {
     "base_uri": "https://localhost:8080/"
    },
    "executionInfo": {
     "elapsed": 33,
     "status": "ok",
     "timestamp": 1643233023415,
     "user": {
      "displayName": "Osama Ali",
      "photoUrl": "https://lh3.googleusercontent.com/a-/AOh14Ggw__F78DMQDtoJko1E4yI-bs7l5V7iWEzSSZnF=s64",
      "userId": "16354773334559988869"
     },
     "user_tz": -120
    },
    "id": "dg9ebeOtSI7Y",
    "outputId": "57734d25-0be4-43e8-aedb-95711a8f4158"
   },
   "outputs": [
    {
     "name": "stdout",
     "output_type": "stream",
     "text": [
      "[[150   0]\n",
      " [ 23   0]]\n"
     ]
    }
   ],
   "source": [
    "from sklearn.metrics import confusion_matrix, accuracy_score, plot_confusion_matrix\n",
    "cm = confusion_matrix(y_test, y_pred)\n",
    "# plot_confusion_matrix(classifier, X_test, y_test)\n",
    "print(cm)"
   ]
  },
  {
   "cell_type": "markdown",
   "id": "9xVCOA2lGZQc",
   "metadata": {
    "id": "9xVCOA2lGZQc"
   },
   "source": [
    "# Classification Metrics"
   ]
  },
  {
   "cell_type": "code",
   "execution_count": 7,
   "id": "ArP3gDy2GLDU",
   "metadata": {
    "id": "ArP3gDy2GLDU"
   },
   "outputs": [],
   "source": [
    "TN = cm[0,0]\n",
    "TP = cm[1,1]\n",
    "FP = cm[0,1]\n",
    "FN = cm[1,0]"
   ]
  },
  {
   "cell_type": "code",
   "execution_count": 8,
   "id": "gYHNWHYKGLGw",
   "metadata": {
    "colab": {
     "base_uri": "https://localhost:8080/"
    },
    "id": "gYHNWHYKGLGw",
    "outputId": "d2369a16-f658-4324-b36d-ade1bf59624a"
   },
   "outputs": [
    {
     "name": "stdout",
     "output_type": "stream",
     "text": [
      "Classification accuracy: 0.8671\n"
     ]
    }
   ],
   "source": [
    "# Classification Accuracy on the Test Set\n",
    "classification_accuracy = (TP + TN) / float(TP + TN + FP + FN)\n",
    "print('Classification accuracy: {0:0.4f}'.format(classification_accuracy))"
   ]
  },
  {
   "cell_type": "code",
   "execution_count": 9,
   "id": "UWzUXQEvGLJt",
   "metadata": {
    "colab": {
     "base_uri": "https://localhost:8080/"
    },
    "id": "UWzUXQEvGLJt",
    "outputId": "e60c31d4-ab50-41ef-ffed-de79dffc124e"
   },
   "outputs": [
    {
     "name": "stdout",
     "output_type": "stream",
     "text": [
      "Classification error: 0.1329\n"
     ]
    }
   ],
   "source": [
    "# Classification Error\n",
    "classification_error = (FP + FN) / float(TP + TN + FP + FN)\n",
    "print('Classification error: {0:0.4f}'.format(classification_error))"
   ]
  },
  {
   "cell_type": "code",
   "execution_count": 10,
   "id": "XeOtPQo4GLMl",
   "metadata": {
    "colab": {
     "base_uri": "https://localhost:8080/"
    },
    "id": "XeOtPQo4GLMl",
    "outputId": "c80ef97e-563c-40be-9448-d5f1a3291d26"
   },
   "outputs": [
    {
     "name": "stdout",
     "output_type": "stream",
     "text": [
      "Precision: nan\n"
     ]
    },
    {
     "name": "stderr",
     "output_type": "stream",
     "text": [
      "C:\\Users\\osama\\AppData\\Local\\Temp/ipykernel_33660/2648827691.py:2: RuntimeWarning: invalid value encountered in true_divide\n",
      "  precision = TP / float(TP + FP)\n"
     ]
    }
   ],
   "source": [
    "# Precision Score\n",
    "precision = TP / float(TP + FP)\n",
    "print('Precision: {0:0.4f}'.format(precision))"
   ]
  },
  {
   "cell_type": "code",
   "execution_count": 11,
   "id": "ZmylI-zIGLPk",
   "metadata": {
    "colab": {
     "base_uri": "https://localhost:8080/"
    },
    "id": "ZmylI-zIGLPk",
    "outputId": "12d4e988-58e0-4f5b-d050-6a89ebb304c3"
   },
   "outputs": [
    {
     "name": "stdout",
     "output_type": "stream",
     "text": [
      "Recall or Sensitivity: 0.0000\n"
     ]
    }
   ],
   "source": [
    "# Recall or Sensitivity\n",
    "recall = TP / float(TP + FN)\n",
    "print('Recall or Sensitivity: {0:0.4f}'.format(recall))"
   ]
  },
  {
   "cell_type": "code",
   "execution_count": 12,
   "id": "lmrsTWH4GLSk",
   "metadata": {
    "colab": {
     "base_uri": "https://localhost:8080/"
    },
    "id": "lmrsTWH4GLSk",
    "outputId": "9728802a-b617-4dcb-e86e-6da53328c834"
   },
   "outputs": [
    {
     "name": "stdout",
     "output_type": "stream",
     "text": [
      "F1 score: nan\n"
     ]
    }
   ],
   "source": [
    "# F1 Score\n",
    "f1 = 2 * (precision * recall) / (precision + recall)\n",
    "print('F1 score: {0:0.4f}'.format(f1))"
   ]
  },
  {
   "cell_type": "code",
   "execution_count": 13,
   "id": "-iRlV45qGLVm",
   "metadata": {
    "colab": {
     "base_uri": "https://localhost:8080/"
    },
    "id": "-iRlV45qGLVm",
    "outputId": "805e1861-0323-41d5-a47a-f8a2b8131b1e"
   },
   "outputs": [
    {
     "name": "stdout",
     "output_type": "stream",
     "text": [
      "              precision    recall  f1-score   support\n",
      "\n",
      "           0       0.87      1.00      0.93       150\n",
      "           1       0.00      0.00      0.00        23\n",
      "\n",
      "    accuracy                           0.87       173\n",
      "   macro avg       0.43      0.50      0.46       173\n",
      "weighted avg       0.75      0.87      0.81       173\n",
      "\n"
     ]
    },
    {
     "name": "stderr",
     "output_type": "stream",
     "text": [
      "C:\\Users\\osama\\anaconda3\\lib\\site-packages\\sklearn\\metrics\\_classification.py:1248: UndefinedMetricWarning: Precision and F-score are ill-defined and being set to 0.0 in labels with no predicted samples. Use `zero_division` parameter to control this behavior.\n",
      "  _warn_prf(average, modifier, msg_start, len(result))\n",
      "C:\\Users\\osama\\anaconda3\\lib\\site-packages\\sklearn\\metrics\\_classification.py:1248: UndefinedMetricWarning: Precision and F-score are ill-defined and being set to 0.0 in labels with no predicted samples. Use `zero_division` parameter to control this behavior.\n",
      "  _warn_prf(average, modifier, msg_start, len(result))\n",
      "C:\\Users\\osama\\anaconda3\\lib\\site-packages\\sklearn\\metrics\\_classification.py:1248: UndefinedMetricWarning: Precision and F-score are ill-defined and being set to 0.0 in labels with no predicted samples. Use `zero_division` parameter to control this behavior.\n",
      "  _warn_prf(average, modifier, msg_start, len(result))\n"
     ]
    }
   ],
   "source": [
    "# Classification Report\n",
    "from sklearn.metrics import classification_report\n",
    "print(classification_report(y_test, y_pred))"
   ]
  },
  {
   "cell_type": "markdown",
   "metadata": {},
   "source": [
    "All rights reserved to: Pyhton Engineer "
   ]
  }
 ],
 "metadata": {
  "colab": {
   "authorship_tag": "ABX9TyMH6qE6utc9eJdGQjPhDgdo",
   "name": "LR.ipynb",
   "provenance": []
  },
  "kernelspec": {
   "display_name": "Python 3 (ipykernel)",
   "language": "python",
   "name": "python3"
  },
  "language_info": {
   "codemirror_mode": {
    "name": "ipython",
    "version": 3
   },
   "file_extension": ".py",
   "mimetype": "text/x-python",
   "name": "python",
   "nbconvert_exporter": "python",
   "pygments_lexer": "ipython3",
   "version": "3.9.7"
  }
 },
 "nbformat": 4,
 "nbformat_minor": 1
}
