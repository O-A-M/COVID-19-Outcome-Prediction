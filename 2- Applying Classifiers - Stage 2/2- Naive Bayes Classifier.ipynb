{
 "cells": [
  {
   "cell_type": "markdown",
   "metadata": {
    "id": "0MRC0e0KhQ0S"
   },
   "source": [
    "# **Naive Bayes Classifier**"
   ]
  },
  {
   "cell_type": "markdown",
   "metadata": {
    "id": "oHu6riwlsksi"
   },
   "source": [
    "## **Importing the libraries**"
   ]
  },
  {
   "cell_type": "code",
   "execution_count": 1,
   "metadata": {
    "executionInfo": {
     "elapsed": 717,
     "status": "ok",
     "timestamp": 1643214832615,
     "user": {
      "displayName": "Osama Ali",
      "photoUrl": "https://lh3.googleusercontent.com/a-/AOh14Ggw__F78DMQDtoJko1E4yI-bs7l5V7iWEzSSZnF=s64",
      "userId": "16354773334559988869"
     },
     "user_tz": -120
    },
    "id": "OjOOLlg7sksw"
   },
   "outputs": [],
   "source": [
    "import numpy as np\n",
    "import matplotlib.pyplot as plt\n",
    "import pandas as pd"
   ]
  },
  {
   "cell_type": "markdown",
   "metadata": {
    "id": "uLbdhPJPsksx"
   },
   "source": [
    "## **Importing the dataset**"
   ]
  },
  {
   "cell_type": "code",
   "execution_count": 2,
   "metadata": {
    "executionInfo": {
     "elapsed": 8,
     "status": "ok",
     "timestamp": 1643214834156,
     "user": {
      "displayName": "Osama Ali",
      "photoUrl": "https://lh3.googleusercontent.com/a-/AOh14Ggw__F78DMQDtoJko1E4yI-bs7l5V7iWEzSSZnF=s64",
      "userId": "16354773334559988869"
     },
     "user_tz": -120
    },
    "id": "tgBk3GXdsksx"
   },
   "outputs": [],
   "source": [
    "data = pd.read_csv('preprocessed_data.csv', index_col=0)"
   ]
  },
  {
   "cell_type": "markdown",
   "metadata": {
    "id": "kW3c7UYih0hT"
   },
   "source": [
    "## **Splitting the dataset into Training set and Test set**"
   ]
  },
  {
   "cell_type": "code",
   "execution_count": 3,
   "metadata": {},
   "outputs": [],
   "source": [
    "X = data.iloc[:,:-1]\n",
    "y = data['result']"
   ]
  },
  {
   "cell_type": "code",
   "execution_count": 4,
   "metadata": {
    "executionInfo": {
     "elapsed": 33,
     "status": "ok",
     "timestamp": 1643231166545,
     "user": {
      "displayName": "Osama Ali",
      "photoUrl": "https://lh3.googleusercontent.com/a-/AOh14Ggw__F78DMQDtoJko1E4yI-bs7l5V7iWEzSSZnF=s64",
      "userId": "16354773334559988869"
     },
     "user_tz": -120
    },
    "id": "iXWoQP42ie_1"
   },
   "outputs": [],
   "source": [
    "from sklearn.model_selection import train_test_split\n",
    "X_train, X_test, y_train, y_test = train_test_split(X,y, test_size= .2, stratify=y)"
   ]
  },
  {
   "cell_type": "markdown",
   "metadata": {
    "id": "bb6jCOCQiAmP"
   },
   "source": [
    "## **Training the Naive Bayes classification model on the Training set**"
   ]
  },
  {
   "cell_type": "code",
   "execution_count": 5,
   "metadata": {
    "colab": {
     "base_uri": "https://localhost:8080/"
    },
    "executionInfo": {
     "elapsed": 54,
     "status": "ok",
     "timestamp": 1643214835088,
     "user": {
      "displayName": "Osama Ali",
      "photoUrl": "https://lh3.googleusercontent.com/a-/AOh14Ggw__F78DMQDtoJko1E4yI-bs7l5V7iWEzSSZnF=s64",
      "userId": "16354773334559988869"
     },
     "user_tz": -120
    },
    "id": "SzTDT8HIsks6",
    "outputId": "3280d6c2-ed2c-40f8-d3e9-270b3328304e"
   },
   "outputs": [
    {
     "data": {
      "text/plain": [
       "GaussianNB()"
      ]
     },
     "execution_count": 5,
     "metadata": {},
     "output_type": "execute_result"
    }
   ],
   "source": [
    "from sklearn.naive_bayes import GaussianNB\n",
    "classifier = GaussianNB(var_smoothing=1e-09)\n",
    "classifier.fit(X_train, y_train)"
   ]
  },
  {
   "cell_type": "markdown",
   "metadata": {
    "id": "yyxW5b395mR2"
   },
   "source": [
    "## Predicting a new result"
   ]
  },
  {
   "cell_type": "code",
   "execution_count": 6,
   "metadata": {
    "id": "f8YOXsQy58rP"
   },
   "outputs": [],
   "source": [
    "y_pred = classifier.predict(X_test)"
   ]
  },
  {
   "cell_type": "code",
   "execution_count": 7,
   "metadata": {
    "colab": {
     "base_uri": "https://localhost:8080/"
    },
    "executionInfo": {
     "elapsed": 33,
     "status": "ok",
     "timestamp": 1643233023415,
     "user": {
      "displayName": "Osama Ali",
      "photoUrl": "https://lh3.googleusercontent.com/a-/AOh14Ggw__F78DMQDtoJko1E4yI-bs7l5V7iWEzSSZnF=s64",
      "userId": "16354773334559988869"
     },
     "user_tz": -120
    },
    "id": "dg9ebeOtSI7Y",
    "outputId": "57734d25-0be4-43e8-aedb-95711a8f4158"
   },
   "outputs": [
    {
     "data": {
      "text/plain": [
       "<sklearn.metrics._plot.confusion_matrix.ConfusionMatrixDisplay at 0x16481b084c0>"
      ]
     },
     "execution_count": 7,
     "metadata": {},
     "output_type": "execute_result"
    },
    {
     "data": {
      "image/png": "[encoded data removed]",
      "text/plain": [
       "<Figure size 432x288 with 2 Axes>"
      ]
     },
     "metadata": {
      "needs_background": "light"
     },
     "output_type": "display_data"
    }
   ],
   "source": [
    "from sklearn.metrics import confusion_matrix, accuracy_score, plot_confusion_matrix\n",
    "cm = confusion_matrix(y_test, y_pred)\n",
    "plot_confusion_matrix(classifier, X_test, y_test)"
   ]
  },
  {
   "cell_type": "markdown",
   "metadata": {
    "id": "qgDvX8mir7x1"
   },
   "source": [
    "# **Classification Metrics**"
   ]
  },
  {
   "cell_type": "code",
   "execution_count": 8,
   "metadata": {
    "executionInfo": {
     "elapsed": 35,
     "status": "ok",
     "timestamp": 1643214835092,
     "user": {
      "displayName": "Osama Ali",
      "photoUrl": "https://lh3.googleusercontent.com/a-/AOh14Ggw__F78DMQDtoJko1E4yI-bs7l5V7iWEzSSZnF=s64",
      "userId": "16354773334559988869"
     },
     "user_tz": -120
    },
    "id": "e7DeFYfrQtkR"
   },
   "outputs": [],
   "source": [
    "TN = cm[0,0]\n",
    "TP = cm[1,1]\n",
    "FP = cm[0,1]\n",
    "FN = cm[1,0]"
   ]
  },
  {
   "cell_type": "code",
   "execution_count": 9,
   "metadata": {
    "colab": {
     "base_uri": "https://localhost:8080/"
    },
    "executionInfo": {
     "elapsed": 34,
     "status": "ok",
     "timestamp": 1643214835092,
     "user": {
      "displayName": "Osama Ali",
      "photoUrl": "https://lh3.googleusercontent.com/a-/AOh14Ggw__F78DMQDtoJko1E4yI-bs7l5V7iWEzSSZnF=s64",
      "userId": "16354773334559988869"
     },
     "user_tz": -120
    },
    "id": "zoeUyNSbQ0s5",
    "outputId": "d8873882-2d4c-4333-9f1b-de6342b09cf7"
   },
   "outputs": [
    {
     "name": "stdout",
     "output_type": "stream",
     "text": [
      "Classification accuracy: 0.9931\n"
     ]
    }
   ],
   "source": [
    "# Classification Accuracy on the Test Set\n",
    "classification_accuracy = (TP + TN) / float(TP + TN + FP + FN)\n",
    "print('Classification accuracy: {0:0.4f}'.format(classification_accuracy))"
   ]
  },
  {
   "cell_type": "code",
   "execution_count": 10,
   "metadata": {
    "colab": {
     "base_uri": "https://localhost:8080/"
    },
    "executionInfo": {
     "elapsed": 33,
     "status": "ok",
     "timestamp": 1643214835093,
     "user": {
      "displayName": "Osama Ali",
      "photoUrl": "https://lh3.googleusercontent.com/a-/AOh14Ggw__F78DMQDtoJko1E4yI-bs7l5V7iWEzSSZnF=s64",
      "userId": "16354773334559988869"
     },
     "user_tz": -120
    },
    "id": "5OsVf2uqRf3u",
    "outputId": "77a13880-6d58-4c61-c636-5f5e2a79bb3a"
   },
   "outputs": [
    {
     "name": "stdout",
     "output_type": "stream",
     "text": [
      "Classification error: 0.0069\n"
     ]
    }
   ],
   "source": [
    "# Classification Error\n",
    "classification_error = (FP + FN) / float(TP + TN + FP + FN)\n",
    "print('Classification error: {0:0.4f}'.format(classification_error))"
   ]
  },
  {
   "cell_type": "code",
   "execution_count": 11,
   "metadata": {
    "colab": {
     "base_uri": "https://localhost:8080/"
    },
    "executionInfo": {
     "elapsed": 30,
     "status": "ok",
     "timestamp": 1643214835093,
     "user": {
      "displayName": "Osama Ali",
      "photoUrl": "https://lh3.googleusercontent.com/a-/AOh14Ggw__F78DMQDtoJko1E4yI-bs7l5V7iWEzSSZnF=s64",
      "userId": "16354773334559988869"
     },
     "user_tz": -120
    },
    "id": "2LxkPLnmRwrV",
    "outputId": "c56ff042-a046-4f3b-f9ce-db3b1ff25389"
   },
   "outputs": [
    {
     "name": "stdout",
     "output_type": "stream",
     "text": [
      "Precision: 0.9412\n"
     ]
    }
   ],
   "source": [
    "# Precision Score\n",
    "precision = TP / float(TP + FP)\n",
    "print('Precision: {0:0.4f}'.format(precision))"
   ]
  },
  {
   "cell_type": "code",
   "execution_count": 12,
   "metadata": {
    "colab": {
     "base_uri": "https://localhost:8080/"
    },
    "executionInfo": {
     "elapsed": 29,
     "status": "ok",
     "timestamp": 1643214835094,
     "user": {
      "displayName": "Osama Ali",
      "photoUrl": "https://lh3.googleusercontent.com/a-/AOh14Ggw__F78DMQDtoJko1E4yI-bs7l5V7iWEzSSZnF=s64",
      "userId": "16354773334559988869"
     },
     "user_tz": -120
    },
    "id": "tqLIvAhbTetJ",
    "outputId": "33afe125-e424-471f-8035-3d59cb8bb5fe"
   },
   "outputs": [
    {
     "name": "stdout",
     "output_type": "stream",
     "text": [
      "Recall or Sensitivity: 1.0000\n"
     ]
    }
   ],
   "source": [
    "# Recall or Sensitivity\n",
    "recall = TP / float(TP + FN)\n",
    "print('Recall or Sensitivity: {0:0.4f}'.format(recall))"
   ]
  },
  {
   "cell_type": "code",
   "execution_count": 13,
   "metadata": {
    "colab": {
     "base_uri": "https://localhost:8080/"
    },
    "executionInfo": {
     "elapsed": 27,
     "status": "ok",
     "timestamp": 1643214835094,
     "user": {
      "displayName": "Osama Ali",
      "photoUrl": "https://lh3.googleusercontent.com/a-/AOh14Ggw__F78DMQDtoJko1E4yI-bs7l5V7iWEzSSZnF=s64",
      "userId": "16354773334559988869"
     },
     "user_tz": -120
    },
    "id": "8SPmnKs56-CG",
    "outputId": "3ee88d99-6864-43d2-9303-50a2a99a5caf"
   },
   "outputs": [
    {
     "name": "stdout",
     "output_type": "stream",
     "text": [
      "F1 score: 0.9697\n"
     ]
    }
   ],
   "source": [
    "# F1 Score\n",
    "f1 = 2 * (precision * recall) / (precision + recall)\n",
    "print('F1 score: {0:0.4f}'.format(f1))"
   ]
  },
  {
   "cell_type": "markdown",
   "metadata": {},
   "source": [
    "# Classification Report"
   ]
  },
  {
   "cell_type": "code",
   "execution_count": 14,
   "metadata": {
    "colab": {
     "base_uri": "https://localhost:8080/"
    },
    "executionInfo": {
     "elapsed": 26,
     "status": "ok",
     "timestamp": 1643214835095,
     "user": {
      "displayName": "Osama Ali",
      "photoUrl": "https://lh3.googleusercontent.com/a-/AOh14Ggw__F78DMQDtoJko1E4yI-bs7l5V7iWEzSSZnF=s64",
      "userId": "16354773334559988869"
     },
     "user_tz": -120
    },
    "id": "b-e2JDqQMgIJ",
    "outputId": "e19c09d3-9c56-471d-c00c-342203accedc"
   },
   "outputs": [
    {
     "name": "stdout",
     "output_type": "stream",
     "text": [
      "              precision    recall  f1-score   support\n",
      "\n",
      "           0       1.00      0.99      1.00       129\n",
      "           1       0.94      1.00      0.97        16\n",
      "\n",
      "    accuracy                           0.99       145\n",
      "   macro avg       0.97      1.00      0.98       145\n",
      "weighted avg       0.99      0.99      0.99       145\n",
      "\n"
     ]
    }
   ],
   "source": [
    "from sklearn.metrics import classification_report\n",
    "print(classification_report(y_test, y_pred))"
   ]
  },
  {
   "cell_type": "markdown",
   "metadata": {
    "id": "6yAc2qF1_yX8"
   },
   "source": [
    "## **ROC & AUC**"
   ]
  },
  {
   "cell_type": "markdown",
   "metadata": {
    "id": "hl_hDOsvDmyV"
   },
   "source": [
    "### **Prediction probabilities** "
   ]
  },
  {
   "cell_type": "code",
   "execution_count": 15,
   "metadata": {
    "executionInfo": {
     "elapsed": 24,
     "status": "ok",
     "timestamp": 1643214835095,
     "user": {
      "displayName": "Osama Ali",
      "photoUrl": "https://lh3.googleusercontent.com/a-/AOh14Ggw__F78DMQDtoJko1E4yI-bs7l5V7iWEzSSZnF=s64",
      "userId": "16354773334559988869"
     },
     "user_tz": -120
    },
    "id": "jVkSSnnGCQ0O"
   },
   "outputs": [],
   "source": [
    "r_probs = [0 for _ in range(len(y_test))]\n",
    "nb_probs = classifier.predict_proba(X_test)"
   ]
  },
  {
   "cell_type": "markdown",
   "metadata": {
    "id": "GNha6VVeDsyb"
   },
   "source": [
    "Probabilities for the positive outcome is kept."
   ]
  },
  {
   "cell_type": "code",
   "execution_count": 16,
   "metadata": {
    "executionInfo": {
     "elapsed": 22,
     "status": "ok",
     "timestamp": 1643214835096,
     "user": {
      "displayName": "Osama Ali",
      "photoUrl": "https://lh3.googleusercontent.com/a-/AOh14Ggw__F78DMQDtoJko1E4yI-bs7l5V7iWEzSSZnF=s64",
      "userId": "16354773334559988869"
     },
     "user_tz": -120
    },
    "id": "a4j8EtvZCdF8"
   },
   "outputs": [],
   "source": [
    "nb_probs = nb_probs[:, 1]"
   ]
  },
  {
   "cell_type": "code",
   "execution_count": 17,
   "metadata": {
    "executionInfo": {
     "elapsed": 24,
     "status": "ok",
     "timestamp": 1643214835098,
     "user": {
      "displayName": "Osama Ali",
      "photoUrl": "https://lh3.googleusercontent.com/a-/AOh14Ggw__F78DMQDtoJko1E4yI-bs7l5V7iWEzSSZnF=s64",
      "userId": "16354773334559988869"
     },
     "user_tz": -120
    },
    "id": "VAcbTrei_yX_"
   },
   "outputs": [],
   "source": [
    "# ROC Curve and AUC\n",
    "from sklearn.metrics import roc_curve, roc_auc_score"
   ]
  },
  {
   "cell_type": "markdown",
   "metadata": {
    "id": "gpr5ON6QC7ip"
   },
   "source": [
    "### **Calculate AUC**\n",
    "**ROC** is the receiver operating characteristic - \n",
    "**AUC** is the area under the ROC curve"
   ]
  },
  {
   "cell_type": "code",
   "execution_count": 18,
   "metadata": {
    "executionInfo": {
     "elapsed": 24,
     "status": "ok",
     "timestamp": 1643214835098,
     "user": {
      "displayName": "Osama Ali",
      "photoUrl": "https://lh3.googleusercontent.com/a-/AOh14Ggw__F78DMQDtoJko1E4yI-bs7l5V7iWEzSSZnF=s64",
      "userId": "16354773334559988869"
     },
     "user_tz": -120
    },
    "id": "yVwjOC6XC5lw"
   },
   "outputs": [],
   "source": [
    "r_auc = roc_auc_score(y_test, r_probs)\n",
    "nb_auc = roc_auc_score(y_test, nb_probs)"
   ]
  },
  {
   "cell_type": "markdown",
   "metadata": {
    "id": "TIzyhgstDMqw"
   },
   "source": [
    "### **Print AUC scores**"
   ]
  },
  {
   "cell_type": "code",
   "execution_count": 19,
   "metadata": {
    "colab": {
     "base_uri": "https://localhost:8080/"
    },
    "executionInfo": {
     "elapsed": 24,
     "status": "ok",
     "timestamp": 1643214835099,
     "user": {
      "displayName": "Osama Ali",
      "photoUrl": "https://lh3.googleusercontent.com/a-/AOh14Ggw__F78DMQDtoJko1E4yI-bs7l5V7iWEzSSZnF=s64",
      "userId": "16354773334559988869"
     },
     "user_tz": -120
    },
    "id": "lUvZ8_BbC5uf",
    "outputId": "bcce4ac2-3665-43aa-a945-dcfd85bcb635"
   },
   "outputs": [
    {
     "name": "stdout",
     "output_type": "stream",
     "text": [
      "Random (chance) Prediction: AUC = 0.500\n",
      "SVM: AUC = 0.996\n"
     ]
    }
   ],
   "source": [
    "print('Random (chance) Prediction: AUC = %.3f' % (r_auc))\n",
    "print('SVM: AUC = %.3f' % (nb_auc))"
   ]
  },
  {
   "cell_type": "markdown",
   "metadata": {
    "id": "7AsuB3AQE5FC"
   },
   "source": [
    "### **Calculate ROC curve**"
   ]
  },
  {
   "cell_type": "code",
   "execution_count": 20,
   "metadata": {
    "executionInfo": {
     "elapsed": 23,
     "status": "ok",
     "timestamp": 1643214835100,
     "user": {
      "displayName": "Osama Ali",
      "photoUrl": "https://lh3.googleusercontent.com/a-/AOh14Ggw__F78DMQDtoJko1E4yI-bs7l5V7iWEzSSZnF=s64",
      "userId": "16354773334559988869"
     },
     "user_tz": -120
    },
    "id": "lApmrHMp9YDb"
   },
   "outputs": [],
   "source": [
    "r_fpr, r_tpr, _ = roc_curve(y_test, r_probs)\n",
    "nb_fpr, nb_tpr, _ = roc_curve(y_test, nb_probs)"
   ]
  },
  {
   "cell_type": "markdown",
   "metadata": {
    "id": "tXpx2YMM4Gsb"
   },
   "source": [
    "## **Plot the ROC curve**"
   ]
  },
  {
   "cell_type": "code",
   "execution_count": 21,
   "metadata": {
    "executionInfo": {
     "elapsed": 23,
     "status": "ok",
     "timestamp": 1643214835100,
     "user": {
      "displayName": "Osama Ali",
      "photoUrl": "https://lh3.googleusercontent.com/a-/AOh14Ggw__F78DMQDtoJko1E4yI-bs7l5V7iWEzSSZnF=s64",
      "userId": "16354773334559988869"
     },
     "user_tz": -120
    },
    "id": "oL96kXed4MvL"
   },
   "outputs": [],
   "source": [
    "import matplotlib.pyplot as plt"
   ]
  },
  {
   "cell_type": "code",
   "execution_count": 22,
   "metadata": {
    "colab": {
     "base_uri": "https://localhost:8080/",
     "height": 295
    },
    "executionInfo": {
     "elapsed": 613,
     "status": "ok",
     "timestamp": 1643214996846,
     "user": {
      "displayName": "Osama Ali",
      "photoUrl": "https://lh3.googleusercontent.com/a-/AOh14Ggw__F78DMQDtoJko1E4yI-bs7l5V7iWEzSSZnF=s64",
      "userId": "16354773334559988869"
     },
     "user_tz": -120
    },
    "id": "v2Q6p9qmFVxB",
    "outputId": "c03b1b3e-6d9f-4f42-d755-d42b055206f3"
   },
   "outputs": [
    {
     "data": {
      "image/png": "[encoded data removed]",
      "text/plain": [
       "<Figure size 432x288 with 1 Axes>"
      ]
     },
     "metadata": {
      "needs_background": "light"
     },
     "output_type": "display_data"
    }
   ],
   "source": [
    "\n",
    "plt.plot(r_fpr, r_tpr, linestyle='--', label='Random prediction (AUC = %0.3f)' % r_auc)\n",
    "plt.plot(nb_fpr, nb_tpr, marker='.', label='Naive Bayes (AUC = %0.3f)' % nb_auc)\n",
    "\n",
    "# Title\n",
    "plt.title('ROC Plot')\n",
    "# Axis labels\n",
    "plt.xlabel('False Positive Rate')\n",
    "plt.ylabel('True Positive Rate')\n",
    "# Show legend\n",
    "plt.legend() # \n",
    "# Show plot\n",
    "plt.show()"
   ]
  },
  {
   "cell_type": "markdown",
   "metadata": {},
   "source": [
    "# Hyperparameters' Tuning"
   ]
  },
  {
   "cell_type": "code",
   "execution_count": 23,
   "metadata": {
    "id": "MUGqM8Uz9uYf",
    "scrolled": true
   },
   "outputs": [
    {
     "name": "stdout",
     "output_type": "stream",
     "text": [
      "Fitting 5 folds for each of 5 candidates, totalling 25 fits\n",
      "[CV 1/5; 1/5] START var_smoothing=1e-09.........................................\n",
      "[CV 1/5; 1/5] END ..........var_smoothing=1e-09;, score=0.959 total time=   0.0s\n",
      "[CV 2/5; 1/5] START var_smoothing=1e-09.........................................\n",
      "[CV 2/5; 1/5] END ..........var_smoothing=1e-09;, score=0.869 total time=   0.0s\n",
      "[CV 3/5; 1/5] START var_smoothing=1e-09.........................................\n",
      "[CV 3/5; 1/5] END ..........var_smoothing=1e-09;, score=0.255 total time=   0.0s\n",
      "[CV 4/5; 1/5] START var_smoothing=1e-09.........................................\n",
      "[CV 4/5; 1/5] END ..........var_smoothing=1e-09;, score=0.779 total time=   0.0s\n",
      "[CV 5/5; 1/5] START var_smoothing=1e-09.........................................\n",
      "[CV 5/5; 1/5] END ..........var_smoothing=1e-09;, score=1.000 total time=   0.0s\n",
      "[CV 1/5; 2/5] START var_smoothing=1e-15.........................................\n",
      "[CV 1/5; 2/5] END ..........var_smoothing=1e-15;, score=0.959 total time=   0.0s\n",
      "[CV 2/5; 2/5] START var_smoothing=1e-15.........................................\n",
      "[CV 2/5; 2/5] END ..........var_smoothing=1e-15;, score=0.869 total time=   0.0s\n",
      "[CV 3/5; 2/5] START var_smoothing=1e-15.........................................\n",
      "[CV 3/5; 2/5] END ..........var_smoothing=1e-15;, score=0.255 total time=   0.0s\n",
      "[CV 4/5; 2/5] START var_smoothing=1e-15.........................................\n",
      "[CV 4/5; 2/5] END ..........var_smoothing=1e-15;, score=0.779 total time=   0.0s\n",
      "[CV 5/5; 2/5] START var_smoothing=1e-15.........................................\n",
      "[CV 5/5; 2/5] END ..........var_smoothing=1e-15;, score=1.000 total time=   0.0s\n",
      "[CV 1/5; 3/5] START var_smoothing=1e-20.........................................\n",
      "[CV 1/5; 3/5] END ..........var_smoothing=1e-20;, score=0.959 total time=   0.0s\n",
      "[CV 2/5; 3/5] START var_smoothing=1e-20.........................................\n",
      "[CV 2/5; 3/5] END ..........var_smoothing=1e-20;, score=0.869 total time=   0.0s\n",
      "[CV 3/5; 3/5] START var_smoothing=1e-20.........................................\n",
      "[CV 3/5; 3/5] END ..........var_smoothing=1e-20;, score=0.255 total time=   0.0s\n",
      "[CV 4/5; 3/5] START var_smoothing=1e-20.........................................\n",
      "[CV 4/5; 3/5] END ..........var_smoothing=1e-20;, score=0.779 total time=   0.0s\n",
      "[CV 5/5; 3/5] START var_smoothing=1e-20.........................................\n",
      "[CV 5/5; 3/5] END ..........var_smoothing=1e-20;, score=1.000 total time=   0.0s\n",
      "[CV 1/5; 4/5] START var_smoothing=1e-30.........................................\n",
      "[CV 1/5; 4/5] END ..........var_smoothing=1e-30;, score=0.897 total time=   0.0s\n",
      "[CV 2/5; 4/5] START var_smoothing=1e-30.........................................\n",
      "[CV 2/5; 4/5] END ..........var_smoothing=1e-30;, score=0.931 total time=   0.0s\n",
      "[CV 3/5; 4/5] START var_smoothing=1e-30.........................................\n",
      "[CV 3/5; 4/5] END ..........var_smoothing=1e-30;, score=0.241 total time=   0.0s\n",
      "[CV 4/5; 4/5] START var_smoothing=1e-30.........................................\n",
      "[CV 4/5; 4/5] END ..........var_smoothing=1e-30;, score=0.779 total time=   0.0s\n",
      "[CV 5/5; 4/5] START var_smoothing=1e-30.........................................\n",
      "[CV 5/5; 4/5] END ..........var_smoothing=1e-30;, score=1.000 total time=   0.0s\n",
      "[CV 1/5; 5/5] START var_smoothing=0.0001........................................\n",
      "[CV 1/5; 5/5] END .........var_smoothing=0.0001;, score=0.959 total time=   0.0s\n",
      "[CV 2/5; 5/5] START var_smoothing=0.0001........................................\n",
      "[CV 2/5; 5/5] END .........var_smoothing=0.0001;, score=0.869 total time=   0.0s\n",
      "[CV 3/5; 5/5] START var_smoothing=0.0001........................................\n",
      "[CV 3/5; 5/5] END .........var_smoothing=0.0001;, score=0.255 total time=   0.0s\n",
      "[CV 4/5; 5/5] START var_smoothing=0.0001........................................\n",
      "[CV 4/5; 5/5] END .........var_smoothing=0.0001;, score=0.779 total time=   0.0s\n",
      "[CV 5/5; 5/5] START var_smoothing=0.0001........................................\n",
      "[CV 5/5; 5/5] END .........var_smoothing=0.0001;, score=1.000 total time=   0.0s\n",
      "Best Score: 0.7724137931034483\n",
      "Best Hyperparameters: {'var_smoothing': 1e-09}\n"
     ]
    }
   ],
   "source": [
    "from sklearn.model_selection import GridSearchCV\n",
    "parameters = {'var_smoothing':[1e-09, 1e-15, 1e-20, 1e-30, 1e-4]}\n",
    "result = GridSearchCV(classifier, parameters, refit=True, cv=None, verbose=10)\n",
    "result.fit(data, data.result)\n",
    "print('Best Score: %s' % result.best_score_)\n",
    "print('Best Hyperparameters: %s' % result.best_params_)"
   ]
  }
 ],
 "metadata": {
  "colab": {
   "authorship_tag": "ABX9TyPKbtBdkgmb58j418UkKKSg",
   "collapsed_sections": [],
   "name": "Naive Bayes Classifier.ipynb",
   "provenance": []
  },
  "kernelspec": {
   "display_name": "Python 3 (ipykernel)",
   "language": "python",
   "name": "python3"
  },
  "language_info": {
   "codemirror_mode": {
    "name": "ipython",
    "version": 3
   },
   "file_extension": ".py",
   "mimetype": "text/x-python",
   "name": "python",
   "nbconvert_exporter": "python",
   "pygments_lexer": "ipython3",
   "version": "3.9.7"
  }
 },
 "nbformat": 4,
 "nbformat_minor": 1
}
