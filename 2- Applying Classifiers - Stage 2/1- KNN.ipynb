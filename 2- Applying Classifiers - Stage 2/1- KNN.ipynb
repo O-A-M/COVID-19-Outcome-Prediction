{
 "cells": [
  {
   "cell_type": "markdown",
   "metadata": {
    "id": "0MRC0e0KhQ0S"
   },
   "source": [
    "# K-Nearest Neighbors (KNN)"
   ]
  },
  {
   "cell_type": "markdown",
   "metadata": {
    "id": "LWd1UlMnhT2s"
   },
   "source": [
    "## Importing the libraries"
   ]
  },
  {
   "cell_type": "code",
   "execution_count": 1,
   "metadata": {
    "id": "YvGPUQaHhXfL"
   },
   "outputs": [],
   "source": [
    "import numpy as np\n",
    "import matplotlib.pyplot as plt\n",
    "import pandas as pd"
   ]
  },
  {
   "cell_type": "markdown",
   "metadata": {
    "id": "K1VMqkGvhc3-"
   },
   "source": [
    "## **Importing the dataset**"
   ]
  },
  {
   "cell_type": "code",
   "execution_count": 2,
   "metadata": {
    "id": "M52QDmyzhh9s"
   },
   "outputs": [],
   "source": [
    "data = pd.read_csv('preprocessed_data.csv', index_col=0)"
   ]
  },
  {
   "cell_type": "markdown",
   "metadata": {
    "id": "kW3c7UYih0hT"
   },
   "source": [
    "## **Splitting the dataset into Training set and Test set**"
   ]
  },
  {
   "cell_type": "code",
   "execution_count": 3,
   "metadata": {},
   "outputs": [],
   "source": [
    "X = data.iloc[:,:-1]\n",
    "y = data['result']"
   ]
  },
  {
   "cell_type": "code",
   "execution_count": 4,
   "metadata": {
    "executionInfo": {
     "elapsed": 33,
     "status": "ok",
     "timestamp": 1643231166545,
     "user": {
      "displayName": "Osama Ali",
      "photoUrl": "https://lh3.googleusercontent.com/a-/AOh14Ggw__F78DMQDtoJko1E4yI-bs7l5V7iWEzSSZnF=s64",
      "userId": "16354773334559988869"
     },
     "user_tz": -120
    },
    "id": "iXWoQP42ie_1"
   },
   "outputs": [],
   "source": [
    "from sklearn.model_selection import train_test_split\n",
    "X_train, X_test, y_train, y_test = train_test_split(X,y, test_size= .2, stratify=y)"
   ]
  },
  {
   "cell_type": "markdown",
   "metadata": {
    "id": "bb6jCOCQiAmP"
   },
   "source": [
    "## Training the K-NN model on the Training set"
   ]
  },
  {
   "cell_type": "code",
   "execution_count": 5,
   "metadata": {
    "colab": {
     "base_uri": "https://localhost:8080/"
    },
    "executionInfo": {
     "elapsed": 38,
     "status": "ok",
     "timestamp": 1643233023414,
     "user": {
      "displayName": "Osama Ali",
      "photoUrl": "https://lh3.googleusercontent.com/a-/AOh14Ggw__F78DMQDtoJko1E4yI-bs7l5V7iWEzSSZnF=s64",
      "userId": "16354773334559988869"
     },
     "user_tz": -120
    },
    "id": "e0pFVAmciHQs",
    "outputId": "950cbd00-214f-45d0-e6ab-197f2db3b6f8"
   },
   "outputs": [
    {
     "data": {
      "text/plain": [
       "KNeighborsClassifier(n_neighbors=3)"
      ]
     },
     "execution_count": 5,
     "metadata": {},
     "output_type": "execute_result"
    }
   ],
   "source": [
    "from sklearn.neighbors import KNeighborsClassifier\n",
    "classifier = KNeighborsClassifier(n_neighbors = 3, metric = 'minkowski', p = 2)\n",
    "classifier.fit(X_train, y_train)"
   ]
  },
  {
   "cell_type": "markdown",
   "metadata": {
    "id": "yyxW5b395mR2"
   },
   "source": [
    "## Predicting a new result"
   ]
  },
  {
   "cell_type": "code",
   "execution_count": 6,
   "metadata": {
    "id": "f8YOXsQy58rP"
   },
   "outputs": [],
   "source": [
    "y_pred = classifier.predict(X_test)"
   ]
  },
  {
   "cell_type": "code",
   "execution_count": 7,
   "metadata": {
    "colab": {
     "base_uri": "https://localhost:8080/"
    },
    "executionInfo": {
     "elapsed": 33,
     "status": "ok",
     "timestamp": 1643233023415,
     "user": {
      "displayName": "Osama Ali",
      "photoUrl": "https://lh3.googleusercontent.com/a-/AOh14Ggw__F78DMQDtoJko1E4yI-bs7l5V7iWEzSSZnF=s64",
      "userId": "16354773334559988869"
     },
     "user_tz": -120
    },
    "id": "dg9ebeOtSI7Y",
    "outputId": "57734d25-0be4-43e8-aedb-95711a8f4158"
   },
   "outputs": [
    {
     "data": {
      "text/plain": [
       "<sklearn.metrics._plot.confusion_matrix.ConfusionMatrixDisplay at 0x288fe210f10>"
      ]
     },
     "execution_count": 7,
     "metadata": {},
     "output_type": "execute_result"
    },
    {
     "data": {
      "image/png": "[encoded data removed]",
      "text/plain": [
       "<Figure size 432x288 with 2 Axes>"
      ]
     },
     "metadata": {
      "needs_background": "light"
     },
     "output_type": "display_data"
    }
   ],
   "source": [
    "from sklearn.metrics import confusion_matrix, accuracy_score, plot_confusion_matrix\n",
    "cm = confusion_matrix(y_test, y_pred)\n",
    "plot_confusion_matrix(classifier, X_test, y_test)"
   ]
  },
  {
   "cell_type": "markdown",
   "metadata": {
    "id": "6OMC_P0diaoD"
   },
   "source": [
    "# **Classification Metrics**"
   ]
  },
  {
   "cell_type": "code",
   "execution_count": 8,
   "metadata": {
    "id": "_NOjKvZRid5l"
   },
   "outputs": [],
   "source": [
    "TN = cm[0,0]\n",
    "TP = cm[1,1]\n",
    "FP = cm[0,1]\n",
    "FN = cm[1,0]"
   ]
  },
  {
   "cell_type": "code",
   "execution_count": 9,
   "metadata": {
    "colab": {
     "base_uri": "https://localhost:8080/"
    },
    "executionInfo": {
     "elapsed": 41,
     "status": "ok",
     "timestamp": 1643233024326,
     "user": {
      "displayName": "Osama Ali",
      "photoUrl": "https://lh3.googleusercontent.com/a-/AOh14Ggw__F78DMQDtoJko1E4yI-bs7l5V7iWEzSSZnF=s64",
      "userId": "16354773334559988869"
     },
     "user_tz": -120
    },
    "id": "qeTjz2vDilAC",
    "outputId": "5dff6989-9a94-47c5-c89e-8dfef79e7597"
   },
   "outputs": [
    {
     "name": "stdout",
     "output_type": "stream",
     "text": [
      "Classification accuracy: 0.9517\n"
     ]
    }
   ],
   "source": [
    "# Classification Accuracy on the Test Set\n",
    "classification_accuracy = (TP + TN) / float(TP + TN + FP + FN)\n",
    "print('Classification accuracy: {0:0.4f}'.format(classification_accuracy))"
   ]
  },
  {
   "cell_type": "code",
   "execution_count": 10,
   "metadata": {
    "colab": {
     "base_uri": "https://localhost:8080/"
    },
    "executionInfo": {
     "elapsed": 38,
     "status": "ok",
     "timestamp": 1643233024327,
     "user": {
      "displayName": "Osama Ali",
      "photoUrl": "https://lh3.googleusercontent.com/a-/AOh14Ggw__F78DMQDtoJko1E4yI-bs7l5V7iWEzSSZnF=s64",
      "userId": "16354773334559988869"
     },
     "user_tz": -120
    },
    "id": "dPog8qzhSI7d",
    "outputId": "0c360f65-f33a-4d8f-d7a6-5249a9159f8f"
   },
   "outputs": [
    {
     "name": "stdout",
     "output_type": "stream",
     "text": [
      "Classification error: 0.0483\n"
     ]
    }
   ],
   "source": [
    "# Classification Error\n",
    "classification_error = (FP + FN) / float(TP + TN + FP + FN)\n",
    "print('Classification error: {0:0.4f}'.format(classification_error))"
   ]
  },
  {
   "cell_type": "code",
   "execution_count": 11,
   "metadata": {
    "colab": {
     "base_uri": "https://localhost:8080/"
    },
    "executionInfo": {
     "elapsed": 36,
     "status": "ok",
     "timestamp": 1643233024328,
     "user": {
      "displayName": "Osama Ali",
      "photoUrl": "https://lh3.googleusercontent.com/a-/AOh14Ggw__F78DMQDtoJko1E4yI-bs7l5V7iWEzSSZnF=s64",
      "userId": "16354773334559988869"
     },
     "user_tz": -120
    },
    "id": "TSEKl9Y8SI7e",
    "outputId": "855bb2b5-e7ff-4455-a997-b037306cd441"
   },
   "outputs": [
    {
     "name": "stdout",
     "output_type": "stream",
     "text": [
      "Precision: 0.8000\n"
     ]
    }
   ],
   "source": [
    "# Precision Score\n",
    "precision = TP / float(TP + FP)\n",
    "print('Precision: {0:0.4f}'.format(precision))"
   ]
  },
  {
   "cell_type": "code",
   "execution_count": 12,
   "metadata": {
    "colab": {
     "base_uri": "https://localhost:8080/"
    },
    "executionInfo": {
     "elapsed": 33,
     "status": "ok",
     "timestamp": 1643233024328,
     "user": {
      "displayName": "Osama Ali",
      "photoUrl": "https://lh3.googleusercontent.com/a-/AOh14Ggw__F78DMQDtoJko1E4yI-bs7l5V7iWEzSSZnF=s64",
      "userId": "16354773334559988869"
     },
     "user_tz": -120
    },
    "id": "HnxJoxkFSI7e",
    "outputId": "a9b99b65-9e1e-4136-9801-18cc0558ee00"
   },
   "outputs": [
    {
     "name": "stdout",
     "output_type": "stream",
     "text": [
      "Recall or Sensitivity: 0.7500\n"
     ]
    }
   ],
   "source": [
    "# Recall or Sensitivity\n",
    "recall = TP / float(TP + FN)\n",
    "print('Recall or Sensitivity: {0:0.4f}'.format(recall))"
   ]
  },
  {
   "cell_type": "code",
   "execution_count": 13,
   "metadata": {
    "colab": {
     "base_uri": "https://localhost:8080/"
    },
    "executionInfo": {
     "elapsed": 32,
     "status": "ok",
     "timestamp": 1643233024329,
     "user": {
      "displayName": "Osama Ali",
      "photoUrl": "https://lh3.googleusercontent.com/a-/AOh14Ggw__F78DMQDtoJko1E4yI-bs7l5V7iWEzSSZnF=s64",
      "userId": "16354773334559988869"
     },
     "user_tz": -120
    },
    "id": "mWjtv7l-SI7f",
    "outputId": "ac95a1bb-74b9-4fa5-b7f8-7f42421b3637"
   },
   "outputs": [
    {
     "name": "stdout",
     "output_type": "stream",
     "text": [
      "F1 score: 0.7742\n"
     ]
    }
   ],
   "source": [
    "# F1 Score\n",
    "f1 = 2 * (precision * recall) / (precision + recall)\n",
    "print('F1 score: {0:0.4f}'.format(f1))"
   ]
  },
  {
   "cell_type": "markdown",
   "metadata": {},
   "source": [
    "# Classification Report"
   ]
  },
  {
   "cell_type": "code",
   "execution_count": 14,
   "metadata": {
    "colab": {
     "base_uri": "https://localhost:8080/"
    },
    "executionInfo": {
     "elapsed": 30,
     "status": "ok",
     "timestamp": 1643233024330,
     "user": {
      "displayName": "Osama Ali",
      "photoUrl": "https://lh3.googleusercontent.com/a-/AOh14Ggw__F78DMQDtoJko1E4yI-bs7l5V7iWEzSSZnF=s64",
      "userId": "16354773334559988869"
     },
     "user_tz": -120
    },
    "id": "07ZmeGMASI7f",
    "outputId": "b968f54f-1753-4bc7-82cc-c7b522f297f9"
   },
   "outputs": [
    {
     "name": "stdout",
     "output_type": "stream",
     "text": [
      "              precision    recall  f1-score   support\n",
      "\n",
      "           0       0.97      0.98      0.97       129\n",
      "           1       0.80      0.75      0.77        16\n",
      "\n",
      "    accuracy                           0.95       145\n",
      "   macro avg       0.88      0.86      0.87       145\n",
      "weighted avg       0.95      0.95      0.95       145\n",
      "\n"
     ]
    }
   ],
   "source": [
    "from sklearn.metrics import classification_report\n",
    "print(classification_report(y_test, y_pred))"
   ]
  },
  {
   "cell_type": "markdown",
   "metadata": {
    "id": "X-oGMRnISI7f"
   },
   "source": [
    "## **ROC & AUC**"
   ]
  },
  {
   "cell_type": "markdown",
   "metadata": {
    "id": "Ltq00FMQSI7g"
   },
   "source": [
    "### **Prediction probabilities**"
   ]
  },
  {
   "cell_type": "code",
   "execution_count": 15,
   "metadata": {
    "id": "IhhvQVhASI7g"
   },
   "outputs": [],
   "source": [
    "r_probs = [0 for _ in range(len(y_test))]\n",
    "knn_probs = classifier.predict_proba(X_test)"
   ]
  },
  {
   "cell_type": "markdown",
   "metadata": {
    "id": "xQtBaB8tSI7g"
   },
   "source": [
    "Probabilities for the positive outcome is kept."
   ]
  },
  {
   "cell_type": "code",
   "execution_count": 16,
   "metadata": {
    "id": "pCICMXeDSI7g"
   },
   "outputs": [],
   "source": [
    "knn_probs = knn_probs[:, 1]"
   ]
  },
  {
   "cell_type": "markdown",
   "metadata": {
    "id": "eSSso3AZSI7g"
   },
   "source": [
    "### **Calculate AUC**\n",
    "**ROC** is the receiver operating characteristic - \n",
    "**AUC** is the area under the ROC curve"
   ]
  },
  {
   "cell_type": "code",
   "execution_count": 17,
   "metadata": {
    "id": "UWAaZZnrSI7h"
   },
   "outputs": [],
   "source": [
    "# ROC Curve and AUC\n",
    "from sklearn.metrics import roc_curve, roc_auc_score"
   ]
  },
  {
   "cell_type": "code",
   "execution_count": 18,
   "metadata": {
    "id": "S3LY8sg3SI7h"
   },
   "outputs": [],
   "source": [
    "r_auc = roc_auc_score(y_test, r_probs)\n",
    "knn_auc = roc_auc_score(y_test, knn_probs)"
   ]
  },
  {
   "cell_type": "markdown",
   "metadata": {
    "id": "dkAHViqpSI7h"
   },
   "source": [
    "### **Print AUC scores**"
   ]
  },
  {
   "cell_type": "code",
   "execution_count": 19,
   "metadata": {
    "colab": {
     "base_uri": "https://localhost:8080/"
    },
    "executionInfo": {
     "elapsed": 30,
     "status": "ok",
     "timestamp": 1643233024334,
     "user": {
      "displayName": "Osama Ali",
      "photoUrl": "https://lh3.googleusercontent.com/a-/AOh14Ggw__F78DMQDtoJko1E4yI-bs7l5V7iWEzSSZnF=s64",
      "userId": "16354773334559988869"
     },
     "user_tz": -120
    },
    "id": "7lkiVt6CSI7h",
    "outputId": "4ebd365b-d108-4457-f2bb-8cd6e59a0f90"
   },
   "outputs": [
    {
     "name": "stdout",
     "output_type": "stream",
     "text": [
      "Random (chance) Prediction: AUC = 0.500\n",
      "KNN: AUC = 0.889\n"
     ]
    }
   ],
   "source": [
    "print('Random (chance) Prediction: AUC = %.3f' % (r_auc))\n",
    "print('KNN: AUC = %.3f' % (knn_auc))"
   ]
  },
  {
   "cell_type": "markdown",
   "metadata": {
    "id": "siQyWmlZSI7h"
   },
   "source": [
    "### **Calculate ROC curve**"
   ]
  },
  {
   "cell_type": "code",
   "execution_count": 20,
   "metadata": {
    "id": "UirR8f4NSI7h"
   },
   "outputs": [],
   "source": [
    "r_fpr, r_tpr, _ = roc_curve(y_test, r_probs)\n",
    "knn_fpr, knn_tpr, _ = roc_curve(y_test, knn_probs)"
   ]
  },
  {
   "cell_type": "markdown",
   "metadata": {
    "id": "5dVUtncCSI7i"
   },
   "source": [
    "## **Plot the ROC curve**"
   ]
  },
  {
   "cell_type": "code",
   "execution_count": 21,
   "metadata": {
    "id": "i45h5oinSI7i"
   },
   "outputs": [],
   "source": [
    "import matplotlib.pyplot as plt"
   ]
  },
  {
   "cell_type": "code",
   "execution_count": 22,
   "metadata": {
    "colab": {
     "base_uri": "https://localhost:8080/",
     "height": 295
    },
    "executionInfo": {
     "elapsed": 28,
     "status": "ok",
     "timestamp": 1643233024336,
     "user": {
      "displayName": "Osama Ali",
      "photoUrl": "https://lh3.googleusercontent.com/a-/AOh14Ggw__F78DMQDtoJko1E4yI-bs7l5V7iWEzSSZnF=s64",
      "userId": "16354773334559988869"
     },
     "user_tz": -120
    },
    "id": "GRrNkcTVSI7i",
    "outputId": "4ebc1387-6100-4d91-92f0-8dd08fc8b38f"
   },
   "outputs": [
    {
     "data": {
      "image/png": "[encoded data removed]",
      "text/plain": [
       "<Figure size 432x288 with 1 Axes>"
      ]
     },
     "metadata": {
      "needs_background": "light"
     },
     "output_type": "display_data"
    }
   ],
   "source": [
    "plt.plot(r_fpr, r_tpr, linestyle='--', label='Random prediction (AUC = %0.3f)' % r_auc)\n",
    "plt.plot(knn_fpr, knn_tpr, marker='.', label='KNN (AUC = %0.3f)' % knn_auc)\n",
    "\n",
    "# Title\n",
    "plt.title('ROC Plot')\n",
    "# Axis labels\n",
    "plt.xlabel('False Positive Rate')\n",
    "plt.ylabel('True Positive Rate')\n",
    "# Show legend\n",
    "plt.legend() # \n",
    "# Show plot\n",
    "plt.show()"
   ]
  },
  {
   "cell_type": "markdown",
   "metadata": {},
   "source": [
    "# Hyperparameters' Tuning"
   ]
  },
  {
   "cell_type": "code",
   "execution_count": 23,
   "metadata": {
    "id": "MUGqM8Uz9uYf"
   },
   "outputs": [
    {
     "name": "stdout",
     "output_type": "stream",
     "text": [
      "Fitting 5 folds for each of 5 candidates, totalling 25 fits\n",
      "[CV 1/5; 1/5] START n_neighbors=1...............................................\n",
      "[CV 1/5; 1/5] END ................n_neighbors=1;, score=0.897 total time=   0.0s\n",
      "[CV 2/5; 1/5] START n_neighbors=1...............................................\n",
      "[CV 2/5; 1/5] END ................n_neighbors=1;, score=0.883 total time=   0.0s\n",
      "[CV 3/5; 1/5] START n_neighbors=1...............................................\n",
      "[CV 3/5; 1/5] END ................n_neighbors=1;, score=0.338 total time=   0.0s\n",
      "[CV 4/5; 1/5] START n_neighbors=1...............................................\n",
      "[CV 4/5; 1/5] END ................n_neighbors=1;, score=0.752 total time=   0.0s\n",
      "[CV 5/5; 1/5] START n_neighbors=1...............................................\n",
      "[CV 5/5; 1/5] END ................n_neighbors=1;, score=0.778 total time=   0.0s\n",
      "[CV 1/5; 2/5] START n_neighbors=3...............................................\n",
      "[CV 1/5; 2/5] END ................n_neighbors=3;, score=0.917 total time=   0.0s\n",
      "[CV 2/5; 2/5] START n_neighbors=3...............................................\n",
      "[CV 2/5; 2/5] END ................n_neighbors=3;, score=0.938 total time=   0.0s\n",
      "[CV 3/5; 2/5] START n_neighbors=3...............................................\n",
      "[CV 3/5; 2/5] END ................n_neighbors=3;, score=0.386 total time=   0.0s\n",
      "[CV 4/5; 2/5] START n_neighbors=3...............................................\n",
      "[CV 4/5; 2/5] END ................n_neighbors=3;, score=0.807 total time=   0.0s\n",
      "[CV 5/5; 2/5] START n_neighbors=3...............................................\n",
      "[CV 5/5; 2/5] END ................n_neighbors=3;, score=0.764 total time=   0.0s\n",
      "[CV 1/5; 3/5] START n_neighbors=5...............................................\n",
      "[CV 1/5; 3/5] END ................n_neighbors=5;, score=0.917 total time=   0.0s\n",
      "[CV 2/5; 3/5] START n_neighbors=5...............................................\n",
      "[CV 2/5; 3/5] END ................n_neighbors=5;, score=0.924 total time=   0.0s\n",
      "[CV 3/5; 3/5] START n_neighbors=5...............................................\n",
      "[CV 3/5; 3/5] END ................n_neighbors=5;, score=0.966 total time=   0.0s\n",
      "[CV 4/5; 3/5] START n_neighbors=5...............................................\n",
      "[CV 4/5; 3/5] END ................n_neighbors=5;, score=0.890 total time=   0.0s\n",
      "[CV 5/5; 3/5] START n_neighbors=5...............................................\n",
      "[CV 5/5; 3/5] END ................n_neighbors=5;, score=0.778 total time=   0.0s\n",
      "[CV 1/5; 4/5] START n_neighbors=7...............................................\n",
      "[CV 1/5; 4/5] END ................n_neighbors=7;, score=0.945 total time=   0.0s\n",
      "[CV 2/5; 4/5] START n_neighbors=7...............................................\n",
      "[CV 2/5; 4/5] END ................n_neighbors=7;, score=0.917 total time=   0.0s\n",
      "[CV 3/5; 4/5] START n_neighbors=7...............................................\n",
      "[CV 3/5; 4/5] END ................n_neighbors=7;, score=0.952 total time=   0.0s\n",
      "[CV 4/5; 4/5] START n_neighbors=7...............................................\n",
      "[CV 4/5; 4/5] END ................n_neighbors=7;, score=0.924 total time=   0.0s\n",
      "[CV 5/5; 4/5] START n_neighbors=7...............................................\n",
      "[CV 5/5; 4/5] END ................n_neighbors=7;, score=0.771 total time=   0.0s\n",
      "[CV 1/5; 5/5] START n_neighbors=10..............................................\n",
      "[CV 1/5; 5/5] END ...............n_neighbors=10;, score=0.931 total time=   0.0s\n",
      "[CV 2/5; 5/5] START n_neighbors=10..............................................\n",
      "[CV 2/5; 5/5] END ...............n_neighbors=10;, score=0.917 total time=   0.0s\n",
      "[CV 3/5; 5/5] START n_neighbors=10..............................................\n",
      "[CV 3/5; 5/5] END ...............n_neighbors=10;, score=0.945 total time=   0.0s\n",
      "[CV 4/5; 5/5] START n_neighbors=10..............................................\n",
      "[CV 4/5; 5/5] END ...............n_neighbors=10;, score=0.931 total time=   0.0s\n",
      "[CV 5/5; 5/5] START n_neighbors=10..............................................\n",
      "[CV 5/5; 5/5] END ...............n_neighbors=10;, score=0.917 total time=   0.0s\n",
      "Best Score: 0.9281609195402298\n",
      "Best Hyperparameters: {'n_neighbors': 10}\n"
     ]
    }
   ],
   "source": [
    "from sklearn.model_selection import GridSearchCV\n",
    "parameters = {'n_neighbors':[1, 3, 5, 7, 10]}\n",
    "result = GridSearchCV(classifier, parameters, refit=True, cv=None, verbose=10)\n",
    "result.fit(data, data.result)\n",
    "print('Best Score: %s' % result.best_score_)\n",
    "print('Best Hyperparameters: %s' % result.best_params_)"
   ]
  }
 ],
 "metadata": {
  "colab": {
   "collapsed_sections": [],
   "machine_shape": "hm",
   "name": "KNN.ipynb",
   "provenance": []
  },
  "kernelspec": {
   "display_name": "Python 3 (ipykernel)",
   "language": "python",
   "name": "python3"
  },
  "language_info": {
   "codemirror_mode": {
    "name": "ipython",
    "version": 3
   },
   "file_extension": ".py",
   "mimetype": "text/x-python",
   "name": "python",
   "nbconvert_exporter": "python",
   "pygments_lexer": "ipython3",
   "version": "3.9.7"
  }
 },
 "nbformat": 4,
 "nbformat_minor": 1
}
