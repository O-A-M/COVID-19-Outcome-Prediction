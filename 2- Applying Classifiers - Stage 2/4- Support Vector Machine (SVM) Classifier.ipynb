{
 "cells": [
  {
   "cell_type": "markdown",
   "metadata": {
    "id": "0MRC0e0KhQ0S"
   },
   "source": [
    "# **Support Vector Machine (SVM) Classifier**"
   ]
  },
  {
   "cell_type": "markdown",
   "metadata": {
    "id": "LWd1UlMnhT2s"
   },
   "source": [
    "## **Importing the libraries**"
   ]
  },
  {
   "cell_type": "code",
   "execution_count": 24,
   "metadata": {
    "id": "YvGPUQaHhXfL"
   },
   "outputs": [],
   "source": [
    "import numpy as np\n",
    "import matplotlib.pyplot as plt\n",
    "import pandas as pd"
   ]
  },
  {
   "cell_type": "markdown",
   "metadata": {
    "id": "K1VMqkGvhc3-"
   },
   "source": [
    "## **Importing the dataset**"
   ]
  },
  {
   "cell_type": "code",
   "execution_count": 25,
   "metadata": {
    "id": "M52QDmyzhh9s"
   },
   "outputs": [],
   "source": [
    "data = pd.read_csv('preprocessed_data.csv', index_col=0)"
   ]
  },
  {
   "cell_type": "markdown",
   "metadata": {
    "id": "kW3c7UYih0hT"
   },
   "source": [
    "## **Splitting the dataset into Training set and Test set**"
   ]
  },
  {
   "cell_type": "code",
   "execution_count": 26,
   "metadata": {},
   "outputs": [],
   "source": [
    "X = data.iloc[:,:-1]\n",
    "y = data['result']"
   ]
  },
  {
   "cell_type": "code",
   "execution_count": 27,
   "metadata": {
    "executionInfo": {
     "elapsed": 33,
     "status": "ok",
     "timestamp": 1643231166545,
     "user": {
      "displayName": "Osama Ali",
      "photoUrl": "https://lh3.googleusercontent.com/a-/AOh14Ggw__F78DMQDtoJko1E4yI-bs7l5V7iWEzSSZnF=s64",
      "userId": "16354773334559988869"
     },
     "user_tz": -120
    },
    "id": "iXWoQP42ie_1"
   },
   "outputs": [],
   "source": [
    "from sklearn.model_selection import train_test_split\n",
    "X_train, X_test, y_train, y_test = train_test_split(X,y, test_size= .2, stratify=y)"
   ]
  },
  {
   "cell_type": "markdown",
   "metadata": {
    "id": "bb6jCOCQiAmP"
   },
   "source": [
    "## **Training the SVM Classification model on the Training set**"
   ]
  },
  {
   "cell_type": "code",
   "execution_count": 28,
   "metadata": {
    "colab": {
     "base_uri": "https://localhost:8080/"
    },
    "executionInfo": {
     "elapsed": 26,
     "status": "ok",
     "timestamp": 1643216346358,
     "user": {
      "displayName": "Osama Ali",
      "photoUrl": "https://lh3.googleusercontent.com/a-/AOh14Ggw__F78DMQDtoJko1E4yI-bs7l5V7iWEzSSZnF=s64",
      "userId": "16354773334559988869"
     },
     "user_tz": -120
    },
    "id": "e0pFVAmciHQs",
    "outputId": "ad783640-34a9-4da4-f58a-28346ecd9a04"
   },
   "outputs": [
    {
     "data": {
      "text/plain": [
       "SVC(kernel='linear', probability=True, random_state=0)"
      ]
     },
     "execution_count": 28,
     "metadata": {},
     "output_type": "execute_result"
    }
   ],
   "source": [
    "from sklearn.svm import SVC\n",
    "classifier = SVC(kernel = 'linear', C=1.0, probability=True, random_state = 0)\n",
    "classifier.fit(X_train, y_train)"
   ]
  },
  {
   "cell_type": "markdown",
   "metadata": {
    "id": "yyxW5b395mR2"
   },
   "source": [
    "## Predicting a new result"
   ]
  },
  {
   "cell_type": "code",
   "execution_count": 29,
   "metadata": {
    "id": "f8YOXsQy58rP"
   },
   "outputs": [],
   "source": [
    "y_pred = classifier.predict(X_test)"
   ]
  },
  {
   "cell_type": "code",
   "execution_count": 30,
   "metadata": {
    "colab": {
     "base_uri": "https://localhost:8080/"
    },
    "executionInfo": {
     "elapsed": 33,
     "status": "ok",
     "timestamp": 1643233023415,
     "user": {
      "displayName": "Osama Ali",
      "photoUrl": "https://lh3.googleusercontent.com/a-/AOh14Ggw__F78DMQDtoJko1E4yI-bs7l5V7iWEzSSZnF=s64",
      "userId": "16354773334559988869"
     },
     "user_tz": -120
    },
    "id": "dg9ebeOtSI7Y",
    "outputId": "57734d25-0be4-43e8-aedb-95711a8f4158"
   },
   "outputs": [
    {
     "data": {
      "text/plain": [
       "<sklearn.metrics._plot.confusion_matrix.ConfusionMatrixDisplay at 0x1629b937910>"
      ]
     },
     "execution_count": 30,
     "metadata": {},
     "output_type": "execute_result"
    },
    {
     "data": {
      "image/png": "[encoded data removed]",
      "text/plain": [
       "<Figure size 432x288 with 2 Axes>"
      ]
     },
     "metadata": {
      "needs_background": "light"
     },
     "output_type": "display_data"
    }
   ],
   "source": [
    "from sklearn.metrics import confusion_matrix, accuracy_score, plot_confusion_matrix\n",
    "cm = confusion_matrix(y_test, y_pred)\n",
    "plot_confusion_matrix(classifier, X_test, y_test)"
   ]
  },
  {
   "cell_type": "markdown",
   "metadata": {
    "id": "qgDvX8mir7x1"
   },
   "source": [
    "# **Classification Metrics**"
   ]
  },
  {
   "cell_type": "code",
   "execution_count": 31,
   "metadata": {
    "id": "e7DeFYfrQtkR"
   },
   "outputs": [],
   "source": [
    "TN = cm[0,0]\n",
    "TP = cm[1,1]\n",
    "FP = cm[0,1]\n",
    "FN = cm[1,0]"
   ]
  },
  {
   "cell_type": "code",
   "execution_count": 32,
   "metadata": {
    "colab": {
     "base_uri": "https://localhost:8080/"
    },
    "executionInfo": {
     "elapsed": 41,
     "status": "ok",
     "timestamp": 1643216347688,
     "user": {
      "displayName": "Osama Ali",
      "photoUrl": "https://lh3.googleusercontent.com/a-/AOh14Ggw__F78DMQDtoJko1E4yI-bs7l5V7iWEzSSZnF=s64",
      "userId": "16354773334559988869"
     },
     "user_tz": -120
    },
    "id": "7YlnEZt-xPBa",
    "outputId": "d2870e73-d791-45f0-d661-8ec846ed7ac0"
   },
   "outputs": [
    {
     "name": "stdout",
     "output_type": "stream",
     "text": [
      "Classification accuracy: 1.0000\n"
     ]
    }
   ],
   "source": [
    "# Classification Accuracy on the Test Set\n",
    "classification_accuracy = (TP + TN) / float(TP + TN + FP + FN)\n",
    "print('Classification accuracy: {0:0.4f}'.format(classification_accuracy))"
   ]
  },
  {
   "cell_type": "code",
   "execution_count": 33,
   "metadata": {
    "colab": {
     "base_uri": "https://localhost:8080/"
    },
    "executionInfo": {
     "elapsed": 40,
     "status": "ok",
     "timestamp": 1643216347689,
     "user": {
      "displayName": "Osama Ali",
      "photoUrl": "https://lh3.googleusercontent.com/a-/AOh14Ggw__F78DMQDtoJko1E4yI-bs7l5V7iWEzSSZnF=s64",
      "userId": "16354773334559988869"
     },
     "user_tz": -120
    },
    "id": "e-hSRblVxPBp",
    "outputId": "0b26c986-fd78-4686-b5a1-793745c23ef0"
   },
   "outputs": [
    {
     "name": "stdout",
     "output_type": "stream",
     "text": [
      "Classification error: 0.0000\n"
     ]
    }
   ],
   "source": [
    "# Classification Error\n",
    "classification_error = (FP + FN) / float(TP + TN + FP + FN)\n",
    "print('Classification error: {0:0.4f}'.format(classification_error))"
   ]
  },
  {
   "cell_type": "code",
   "execution_count": 34,
   "metadata": {
    "colab": {
     "base_uri": "https://localhost:8080/"
    },
    "executionInfo": {
     "elapsed": 37,
     "status": "ok",
     "timestamp": 1643216347689,
     "user": {
      "displayName": "Osama Ali",
      "photoUrl": "https://lh3.googleusercontent.com/a-/AOh14Ggw__F78DMQDtoJko1E4yI-bs7l5V7iWEzSSZnF=s64",
      "userId": "16354773334559988869"
     },
     "user_tz": -120
    },
    "id": "cWHHHk-2xPBq",
    "outputId": "5237be24-3de2-4882-d01d-61286086f765"
   },
   "outputs": [
    {
     "name": "stdout",
     "output_type": "stream",
     "text": [
      "Precision: 1.0000\n"
     ]
    }
   ],
   "source": [
    "# Precision Score\n",
    "precision = TP / float(TP + FP)\n",
    "print('Precision: {0:0.4f}'.format(precision))"
   ]
  },
  {
   "cell_type": "code",
   "execution_count": 35,
   "metadata": {
    "colab": {
     "base_uri": "https://localhost:8080/"
    },
    "executionInfo": {
     "elapsed": 36,
     "status": "ok",
     "timestamp": 1643216347690,
     "user": {
      "displayName": "Osama Ali",
      "photoUrl": "https://lh3.googleusercontent.com/a-/AOh14Ggw__F78DMQDtoJko1E4yI-bs7l5V7iWEzSSZnF=s64",
      "userId": "16354773334559988869"
     },
     "user_tz": -120
    },
    "id": "qtbm-p3OxPBq",
    "outputId": "8ea4ca6a-9fcb-43e3-83ee-0dc78d973764"
   },
   "outputs": [
    {
     "name": "stdout",
     "output_type": "stream",
     "text": [
      "Recall or Sensitivity: 1.0000\n"
     ]
    }
   ],
   "source": [
    "# Recall or Sensitivity\n",
    "recall = TP / float(TP + FN)\n",
    "print('Recall or Sensitivity: {0:0.4f}'.format(recall))"
   ]
  },
  {
   "cell_type": "code",
   "execution_count": 36,
   "metadata": {
    "colab": {
     "base_uri": "https://localhost:8080/"
    },
    "executionInfo": {
     "elapsed": 33,
     "status": "ok",
     "timestamp": 1643216347690,
     "user": {
      "displayName": "Osama Ali",
      "photoUrl": "https://lh3.googleusercontent.com/a-/AOh14Ggw__F78DMQDtoJko1E4yI-bs7l5V7iWEzSSZnF=s64",
      "userId": "16354773334559988869"
     },
     "user_tz": -120
    },
    "id": "zHnX7Z2MxPBr",
    "outputId": "f476c64d-4d48-48ea-83dc-3177e470f08a"
   },
   "outputs": [
    {
     "name": "stdout",
     "output_type": "stream",
     "text": [
      "F1 score: 1.0000\n"
     ]
    }
   ],
   "source": [
    "# F1 Score\n",
    "f1 = 2 * (precision * recall) / (precision + recall)\n",
    "print('F1 score: {0:0.4f}'.format(f1))"
   ]
  },
  {
   "cell_type": "markdown",
   "metadata": {},
   "source": [
    "# Classification Report"
   ]
  },
  {
   "cell_type": "code",
   "execution_count": 37,
   "metadata": {
    "colab": {
     "base_uri": "https://localhost:8080/"
    },
    "executionInfo": {
     "elapsed": 29,
     "status": "ok",
     "timestamp": 1643216347691,
     "user": {
      "displayName": "Osama Ali",
      "photoUrl": "https://lh3.googleusercontent.com/a-/AOh14Ggw__F78DMQDtoJko1E4yI-bs7l5V7iWEzSSZnF=s64",
      "userId": "16354773334559988869"
     },
     "user_tz": -120
    },
    "id": "QFLuvhgYxPBr",
    "outputId": "982519c1-f7a8-45b2-9939-de11815aeacf"
   },
   "outputs": [
    {
     "name": "stdout",
     "output_type": "stream",
     "text": [
      "              precision    recall  f1-score   support\n",
      "\n",
      "           0       1.00      1.00      1.00       129\n",
      "           1       1.00      1.00      1.00        16\n",
      "\n",
      "    accuracy                           1.00       145\n",
      "   macro avg       1.00      1.00      1.00       145\n",
      "weighted avg       1.00      1.00      1.00       145\n",
      "\n"
     ]
    }
   ],
   "source": [
    "from sklearn.metrics import classification_report\n",
    "print(classification_report(y_test, y_pred))"
   ]
  },
  {
   "cell_type": "markdown",
   "metadata": {
    "id": "lBJYHPMZt8xk"
   },
   "source": [
    "## **ROC & AUC**"
   ]
  },
  {
   "cell_type": "markdown",
   "metadata": {
    "id": "hl_hDOsvDmyV"
   },
   "source": [
    "### **1- Prediction probabilities** "
   ]
  },
  {
   "cell_type": "code",
   "execution_count": 38,
   "metadata": {
    "id": "jVkSSnnGCQ0O"
   },
   "outputs": [],
   "source": [
    "r_probs = [0 for _ in range(len(y_test))]\n",
    "svm_probs = classifier.predict_proba(X_test)"
   ]
  },
  {
   "cell_type": "markdown",
   "metadata": {
    "id": "GNha6VVeDsyb"
   },
   "source": [
    "Probabilities for the positive outcome is kept."
   ]
  },
  {
   "cell_type": "code",
   "execution_count": 39,
   "metadata": {
    "id": "a4j8EtvZCdF8"
   },
   "outputs": [],
   "source": [
    "svm_probs = svm_probs[:, 1]"
   ]
  },
  {
   "cell_type": "code",
   "execution_count": 40,
   "metadata": {
    "id": "E9PBFw4C7lVH"
   },
   "outputs": [],
   "source": [
    "# ROC Curve and AUC\n",
    "from sklearn.metrics import roc_curve, roc_auc_score"
   ]
  },
  {
   "cell_type": "markdown",
   "metadata": {
    "id": "gpr5ON6QC7ip"
   },
   "source": [
    "### **Calculate AUC**\n",
    "**ROC** is the receiver operating characteristic - \n",
    "**AUC** is the area under the ROC curve"
   ]
  },
  {
   "cell_type": "code",
   "execution_count": 41,
   "metadata": {
    "id": "yVwjOC6XC5lw"
   },
   "outputs": [],
   "source": [
    "r_auc = roc_auc_score(y_test, r_probs)\n",
    "svm_auc = roc_auc_score(y_test, svm_probs)"
   ]
  },
  {
   "cell_type": "markdown",
   "metadata": {
    "id": "TIzyhgstDMqw"
   },
   "source": [
    "### **Print AUROC scores**"
   ]
  },
  {
   "cell_type": "code",
   "execution_count": 42,
   "metadata": {
    "colab": {
     "base_uri": "https://localhost:8080/"
    },
    "executionInfo": {
     "elapsed": 29,
     "status": "ok",
     "timestamp": 1643216347695,
     "user": {
      "displayName": "Osama Ali",
      "photoUrl": "https://lh3.googleusercontent.com/a-/AOh14Ggw__F78DMQDtoJko1E4yI-bs7l5V7iWEzSSZnF=s64",
      "userId": "16354773334559988869"
     },
     "user_tz": -120
    },
    "id": "lUvZ8_BbC5uf",
    "outputId": "a72dab20-ea47-407e-af72-4df807d67649"
   },
   "outputs": [
    {
     "name": "stdout",
     "output_type": "stream",
     "text": [
      "Random (chance) Prediction: AUC = 0.500\n",
      "SVM: AUC = 1.000\n"
     ]
    }
   ],
   "source": [
    "print('Random (chance) Prediction: AUC = %.3f' % (r_auc))\n",
    "print('SVM: AUC = %.3f' % (svm_auc))"
   ]
  },
  {
   "cell_type": "markdown",
   "metadata": {
    "id": "7AsuB3AQE5FC"
   },
   "source": [
    "### **Calculate ROC curve**"
   ]
  },
  {
   "cell_type": "code",
   "execution_count": 43,
   "metadata": {
    "id": "lApmrHMp9YDb"
   },
   "outputs": [],
   "source": [
    "r_fpr, r_tpr, _ = roc_curve(y_test, r_probs)\n",
    "svm_fpr, svm_tpr, _ = roc_curve(y_test, svm_probs)"
   ]
  },
  {
   "cell_type": "markdown",
   "metadata": {
    "id": "tXpx2YMM4Gsb"
   },
   "source": [
    "## **Plot the ROC curve**"
   ]
  },
  {
   "cell_type": "code",
   "execution_count": 44,
   "metadata": {
    "id": "oL96kXed4MvL"
   },
   "outputs": [],
   "source": [
    "import matplotlib.pyplot as plt"
   ]
  },
  {
   "cell_type": "code",
   "execution_count": 45,
   "metadata": {
    "colab": {
     "base_uri": "https://localhost:8080/",
     "height": 295
    },
    "executionInfo": {
     "elapsed": 28,
     "status": "ok",
     "timestamp": 1643216347698,
     "user": {
      "displayName": "Osama Ali",
      "photoUrl": "https://lh3.googleusercontent.com/a-/AOh14Ggw__F78DMQDtoJko1E4yI-bs7l5V7iWEzSSZnF=s64",
      "userId": "16354773334559988869"
     },
     "user_tz": -120
    },
    "id": "v2Q6p9qmFVxB",
    "outputId": "bcec2192-5bb5-44f7-a97a-48f523f2249a",
    "scrolled": true
   },
   "outputs": [
    {
     "data": {
      "image/png": "[encoded data removed]",
      "text/plain": [
       "<Figure size 432x288 with 1 Axes>"
      ]
     },
     "metadata": {
      "needs_background": "light"
     },
     "output_type": "display_data"
    }
   ],
   "source": [
    "\n",
    "plt.plot(r_fpr, r_tpr, linestyle='--', label='Random prediction (AUC = %0.3f)' % r_auc)\n",
    "plt.plot(svm_fpr, svm_tpr, marker='.', label='SVM (AUC = %0.3f)' % svm_auc)\n",
    "\n",
    "# Title\n",
    "plt.title('ROC Plot')\n",
    "# Axis labels\n",
    "plt.xlabel('False Positive Rate')\n",
    "plt.ylabel('True Positive Rate')\n",
    "# Show legend\n",
    "plt.legend() # \n",
    "# Show plot\n",
    "plt.show()"
   ]
  },
  {
   "cell_type": "markdown",
   "metadata": {},
   "source": [
    "# Hyperparameters' Tuning"
   ]
  },
  {
   "cell_type": "code",
   "execution_count": 46,
   "metadata": {
    "id": "MUGqM8Uz9uYf"
   },
   "outputs": [
    {
     "name": "stdout",
     "output_type": "stream",
     "text": [
      "Fitting 5 folds for each of 20 candidates, totalling 100 fits\n",
      "[CV 1/5; 1/20] START C=1, kernel=linear.........................................\n",
      "[CV 1/5; 1/20] END ..........C=1, kernel=linear;, score=1.000 total time=   0.0s\n",
      "[CV 2/5; 1/20] START C=1, kernel=linear.........................................\n",
      "[CV 2/5; 1/20] END ..........C=1, kernel=linear;, score=1.000 total time=   0.0s\n",
      "[CV 3/5; 1/20] START C=1, kernel=linear.........................................\n",
      "[CV 3/5; 1/20] END ..........C=1, kernel=linear;, score=1.000 total time=   0.0s\n",
      "[CV 4/5; 1/20] START C=1, kernel=linear.........................................\n",
      "[CV 4/5; 1/20] END ..........C=1, kernel=linear;, score=1.000 total time=   0.0s\n",
      "[CV 5/5; 1/20] START C=1, kernel=linear.........................................\n",
      "[CV 5/5; 1/20] END ..........C=1, kernel=linear;, score=1.000 total time=   0.0s\n",
      "[CV 1/5; 2/20] START C=1, kernel=poly...........................................\n",
      "[CV 1/5; 2/20] END ............C=1, kernel=poly;, score=1.000 total time=   0.0s\n",
      "[CV 2/5; 2/20] START C=1, kernel=poly...........................................\n",
      "[CV 2/5; 2/20] END ............C=1, kernel=poly;, score=1.000 total time=   0.0s\n",
      "[CV 3/5; 2/20] START C=1, kernel=poly...........................................\n",
      "[CV 3/5; 2/20] END ............C=1, kernel=poly;, score=1.000 total time=   0.0s\n",
      "[CV 4/5; 2/20] START C=1, kernel=poly...........................................\n",
      "[CV 4/5; 2/20] END ............C=1, kernel=poly;, score=1.000 total time=   0.0s\n",
      "[CV 5/5; 2/20] START C=1, kernel=poly...........................................\n",
      "[CV 5/5; 2/20] END ............C=1, kernel=poly;, score=1.000 total time=   0.0s\n",
      "[CV 1/5; 3/20] START C=1, kernel=rbf............................................\n",
      "[CV 1/5; 3/20] END .............C=1, kernel=rbf;, score=0.966 total time=   0.0s\n",
      "[CV 2/5; 3/20] START C=1, kernel=rbf............................................\n",
      "[CV 2/5; 3/20] END .............C=1, kernel=rbf;, score=0.986 total time=   0.0s\n",
      "[CV 3/5; 3/20] START C=1, kernel=rbf............................................\n",
      "[CV 3/5; 3/20] END .............C=1, kernel=rbf;, score=1.000 total time=   0.0s\n",
      "[CV 4/5; 3/20] START C=1, kernel=rbf............................................\n",
      "[CV 4/5; 3/20] END .............C=1, kernel=rbf;, score=1.000 total time=   0.0s\n",
      "[CV 5/5; 3/20] START C=1, kernel=rbf............................................\n",
      "[CV 5/5; 3/20] END .............C=1, kernel=rbf;, score=0.993 total time=   0.0s\n",
      "[CV 1/5; 4/20] START C=1, kernel=sigmoid........................................\n",
      "[CV 1/5; 4/20] END .........C=1, kernel=sigmoid;, score=0.931 total time=   0.0s\n",
      "[CV 2/5; 4/20] START C=1, kernel=sigmoid........................................\n",
      "[CV 2/5; 4/20] END .........C=1, kernel=sigmoid;, score=0.793 total time=   0.0s\n",
      "[CV 3/5; 4/20] START C=1, kernel=sigmoid........................................\n",
      "[CV 3/5; 4/20] END .........C=1, kernel=sigmoid;, score=0.910 total time=   0.0s\n",
      "[CV 4/5; 4/20] START C=1, kernel=sigmoid........................................\n",
      "[CV 4/5; 4/20] END .........C=1, kernel=sigmoid;, score=0.952 total time=   0.0s\n",
      "[CV 5/5; 4/20] START C=1, kernel=sigmoid........................................\n",
      "[CV 5/5; 4/20] END .........C=1, kernel=sigmoid;, score=0.917 total time=   0.0s\n",
      "[CV 1/5; 5/20] START C=3, kernel=linear.........................................\n",
      "[CV 1/5; 5/20] END ..........C=3, kernel=linear;, score=1.000 total time=   0.0s\n",
      "[CV 2/5; 5/20] START C=3, kernel=linear.........................................\n",
      "[CV 2/5; 5/20] END ..........C=3, kernel=linear;, score=1.000 total time=   0.0s\n",
      "[CV 3/5; 5/20] START C=3, kernel=linear.........................................\n",
      "[CV 3/5; 5/20] END ..........C=3, kernel=linear;, score=1.000 total time=   0.0s\n",
      "[CV 4/5; 5/20] START C=3, kernel=linear.........................................\n",
      "[CV 4/5; 5/20] END ..........C=3, kernel=linear;, score=1.000 total time=   0.0s\n",
      "[CV 5/5; 5/20] START C=3, kernel=linear.........................................\n",
      "[CV 5/5; 5/20] END ..........C=3, kernel=linear;, score=1.000 total time=   0.0s\n",
      "[CV 1/5; 6/20] START C=3, kernel=poly...........................................\n",
      "[CV 1/5; 6/20] END ............C=3, kernel=poly;, score=1.000 total time=   0.0s\n",
      "[CV 2/5; 6/20] START C=3, kernel=poly...........................................\n",
      "[CV 2/5; 6/20] END ............C=3, kernel=poly;, score=1.000 total time=   0.0s\n",
      "[CV 3/5; 6/20] START C=3, kernel=poly...........................................\n",
      "[CV 3/5; 6/20] END ............C=3, kernel=poly;, score=1.000 total time=   0.0s\n",
      "[CV 4/5; 6/20] START C=3, kernel=poly...........................................\n",
      "[CV 4/5; 6/20] END ............C=3, kernel=poly;, score=1.000 total time=   0.0s\n",
      "[CV 5/5; 6/20] START C=3, kernel=poly...........................................\n",
      "[CV 5/5; 6/20] END ............C=3, kernel=poly;, score=1.000 total time=   0.0s\n",
      "[CV 1/5; 7/20] START C=3, kernel=rbf............................................\n",
      "[CV 1/5; 7/20] END .............C=3, kernel=rbf;, score=0.966 total time=   0.0s\n",
      "[CV 2/5; 7/20] START C=3, kernel=rbf............................................\n",
      "[CV 2/5; 7/20] END .............C=3, kernel=rbf;, score=0.993 total time=   0.0s\n",
      "[CV 3/5; 7/20] START C=3, kernel=rbf............................................\n",
      "[CV 3/5; 7/20] END .............C=3, kernel=rbf;, score=1.000 total time=   0.0s\n",
      "[CV 4/5; 7/20] START C=3, kernel=rbf............................................\n",
      "[CV 4/5; 7/20] END .............C=3, kernel=rbf;, score=1.000 total time=   0.0s\n",
      "[CV 5/5; 7/20] START C=3, kernel=rbf............................................\n",
      "[CV 5/5; 7/20] END .............C=3, kernel=rbf;, score=0.993 total time=   0.0s\n",
      "[CV 1/5; 8/20] START C=3, kernel=sigmoid........................................\n",
      "[CV 1/5; 8/20] END .........C=3, kernel=sigmoid;, score=0.807 total time=   0.0s\n",
      "[CV 2/5; 8/20] START C=3, kernel=sigmoid........................................\n",
      "[CV 2/5; 8/20] END .........C=3, kernel=sigmoid;, score=0.759 total time=   0.0s\n",
      "[CV 3/5; 8/20] START C=3, kernel=sigmoid........................................\n",
      "[CV 3/5; 8/20] END .........C=3, kernel=sigmoid;, score=0.903 total time=   0.0s\n",
      "[CV 4/5; 8/20] START C=3, kernel=sigmoid........................................\n",
      "[CV 4/5; 8/20] END .........C=3, kernel=sigmoid;, score=0.945 total time=   0.0s\n",
      "[CV 5/5; 8/20] START C=3, kernel=sigmoid........................................\n",
      "[CV 5/5; 8/20] END .........C=3, kernel=sigmoid;, score=0.896 total time=   0.0s\n",
      "[CV 1/5; 9/20] START C=5, kernel=linear.........................................\n",
      "[CV 1/5; 9/20] END ..........C=5, kernel=linear;, score=1.000 total time=   0.0s\n",
      "[CV 2/5; 9/20] START C=5, kernel=linear.........................................\n",
      "[CV 2/5; 9/20] END ..........C=5, kernel=linear;, score=1.000 total time=   0.0s\n",
      "[CV 3/5; 9/20] START C=5, kernel=linear.........................................\n",
      "[CV 3/5; 9/20] END ..........C=5, kernel=linear;, score=1.000 total time=   0.0s\n",
      "[CV 4/5; 9/20] START C=5, kernel=linear.........................................\n",
      "[CV 4/5; 9/20] END ..........C=5, kernel=linear;, score=1.000 total time=   0.0s\n",
      "[CV 5/5; 9/20] START C=5, kernel=linear.........................................\n",
      "[CV 5/5; 9/20] END ..........C=5, kernel=linear;, score=1.000 total time=   0.0s\n",
      "[CV 1/5; 10/20] START C=5, kernel=poly..........................................\n",
      "[CV 1/5; 10/20] END ...........C=5, kernel=poly;, score=1.000 total time=   0.0s\n",
      "[CV 2/5; 10/20] START C=5, kernel=poly..........................................\n",
      "[CV 2/5; 10/20] END ...........C=5, kernel=poly;, score=1.000 total time=   0.0s\n",
      "[CV 3/5; 10/20] START C=5, kernel=poly..........................................\n",
      "[CV 3/5; 10/20] END ...........C=5, kernel=poly;, score=1.000 total time=   0.0s\n",
      "[CV 4/5; 10/20] START C=5, kernel=poly..........................................\n",
      "[CV 4/5; 10/20] END ...........C=5, kernel=poly;, score=1.000 total time=   0.0s\n",
      "[CV 5/5; 10/20] START C=5, kernel=poly..........................................\n",
      "[CV 5/5; 10/20] END ...........C=5, kernel=poly;, score=1.000 total time=   0.0s\n",
      "[CV 1/5; 11/20] START C=5, kernel=rbf...........................................\n",
      "[CV 1/5; 11/20] END ............C=5, kernel=rbf;, score=0.986 total time=   0.0s\n",
      "[CV 2/5; 11/20] START C=5, kernel=rbf...........................................\n"
     ]
    },
    {
     "name": "stdout",
     "output_type": "stream",
     "text": [
      "[CV 2/5; 11/20] END ............C=5, kernel=rbf;, score=0.993 total time=   0.0s\n",
      "[CV 3/5; 11/20] START C=5, kernel=rbf...........................................\n",
      "[CV 3/5; 11/20] END ............C=5, kernel=rbf;, score=1.000 total time=   0.0s\n",
      "[CV 4/5; 11/20] START C=5, kernel=rbf...........................................\n",
      "[CV 4/5; 11/20] END ............C=5, kernel=rbf;, score=1.000 total time=   0.0s\n",
      "[CV 5/5; 11/20] START C=5, kernel=rbf...........................................\n",
      "[CV 5/5; 11/20] END ............C=5, kernel=rbf;, score=0.993 total time=   0.0s\n",
      "[CV 1/5; 12/20] START C=5, kernel=sigmoid.......................................\n",
      "[CV 1/5; 12/20] END ........C=5, kernel=sigmoid;, score=0.807 total time=   0.0s\n",
      "[CV 2/5; 12/20] START C=5, kernel=sigmoid.......................................\n",
      "[CV 2/5; 12/20] END ........C=5, kernel=sigmoid;, score=0.745 total time=   0.0s\n",
      "[CV 3/5; 12/20] START C=5, kernel=sigmoid.......................................\n",
      "[CV 3/5; 12/20] END ........C=5, kernel=sigmoid;, score=0.897 total time=   0.0s\n",
      "[CV 4/5; 12/20] START C=5, kernel=sigmoid.......................................\n",
      "[CV 4/5; 12/20] END ........C=5, kernel=sigmoid;, score=0.938 total time=   0.0s\n",
      "[CV 5/5; 12/20] START C=5, kernel=sigmoid.......................................\n",
      "[CV 5/5; 12/20] END ........C=5, kernel=sigmoid;, score=0.882 total time=   0.0s\n",
      "[CV 1/5; 13/20] START C=7, kernel=linear........................................\n",
      "[CV 1/5; 13/20] END .........C=7, kernel=linear;, score=1.000 total time=   0.0s\n",
      "[CV 2/5; 13/20] START C=7, kernel=linear........................................\n",
      "[CV 2/5; 13/20] END .........C=7, kernel=linear;, score=1.000 total time=   0.0s\n",
      "[CV 3/5; 13/20] START C=7, kernel=linear........................................\n",
      "[CV 3/5; 13/20] END .........C=7, kernel=linear;, score=1.000 total time=   0.0s\n",
      "[CV 4/5; 13/20] START C=7, kernel=linear........................................\n",
      "[CV 4/5; 13/20] END .........C=7, kernel=linear;, score=1.000 total time=   0.0s\n",
      "[CV 5/5; 13/20] START C=7, kernel=linear........................................\n",
      "[CV 5/5; 13/20] END .........C=7, kernel=linear;, score=1.000 total time=   0.0s\n",
      "[CV 1/5; 14/20] START C=7, kernel=poly..........................................\n",
      "[CV 1/5; 14/20] END ...........C=7, kernel=poly;, score=1.000 total time=   0.0s\n",
      "[CV 2/5; 14/20] START C=7, kernel=poly..........................................\n",
      "[CV 2/5; 14/20] END ...........C=7, kernel=poly;, score=1.000 total time=   0.0s\n",
      "[CV 3/5; 14/20] START C=7, kernel=poly..........................................\n",
      "[CV 3/5; 14/20] END ...........C=7, kernel=poly;, score=1.000 total time=   0.0s\n",
      "[CV 4/5; 14/20] START C=7, kernel=poly..........................................\n",
      "[CV 4/5; 14/20] END ...........C=7, kernel=poly;, score=1.000 total time=   0.0s\n",
      "[CV 5/5; 14/20] START C=7, kernel=poly..........................................\n",
      "[CV 5/5; 14/20] END ...........C=7, kernel=poly;, score=1.000 total time=   0.0s\n",
      "[CV 1/5; 15/20] START C=7, kernel=rbf...........................................\n",
      "[CV 1/5; 15/20] END ............C=7, kernel=rbf;, score=0.986 total time=   0.1s\n",
      "[CV 2/5; 15/20] START C=7, kernel=rbf...........................................\n",
      "[CV 2/5; 15/20] END ............C=7, kernel=rbf;, score=0.993 total time=   0.1s\n",
      "[CV 3/5; 15/20] START C=7, kernel=rbf...........................................\n",
      "[CV 3/5; 15/20] END ............C=7, kernel=rbf;, score=1.000 total time=   0.0s\n",
      "[CV 4/5; 15/20] START C=7, kernel=rbf...........................................\n",
      "[CV 4/5; 15/20] END ............C=7, kernel=rbf;, score=1.000 total time=   0.0s\n",
      "[CV 5/5; 15/20] START C=7, kernel=rbf...........................................\n",
      "[CV 5/5; 15/20] END ............C=7, kernel=rbf;, score=0.993 total time=   0.0s\n",
      "[CV 1/5; 16/20] START C=7, kernel=sigmoid.......................................\n",
      "[CV 1/5; 16/20] END ........C=7, kernel=sigmoid;, score=0.793 total time=   0.0s\n",
      "[CV 2/5; 16/20] START C=7, kernel=sigmoid.......................................\n",
      "[CV 2/5; 16/20] END ........C=7, kernel=sigmoid;, score=0.745 total time=   0.0s\n",
      "[CV 3/5; 16/20] START C=7, kernel=sigmoid.......................................\n",
      "[CV 3/5; 16/20] END ........C=7, kernel=sigmoid;, score=0.876 total time=   0.0s\n",
      "[CV 4/5; 16/20] START C=7, kernel=sigmoid.......................................\n",
      "[CV 4/5; 16/20] END ........C=7, kernel=sigmoid;, score=0.924 total time=   0.0s\n",
      "[CV 5/5; 16/20] START C=7, kernel=sigmoid.......................................\n",
      "[CV 5/5; 16/20] END ........C=7, kernel=sigmoid;, score=0.882 total time=   0.0s\n",
      "[CV 1/5; 17/20] START C=10, kernel=linear.......................................\n",
      "[CV 1/5; 17/20] END ........C=10, kernel=linear;, score=1.000 total time=   0.0s\n",
      "[CV 2/5; 17/20] START C=10, kernel=linear.......................................\n",
      "[CV 2/5; 17/20] END ........C=10, kernel=linear;, score=1.000 total time=   0.0s\n",
      "[CV 3/5; 17/20] START C=10, kernel=linear.......................................\n",
      "[CV 3/5; 17/20] END ........C=10, kernel=linear;, score=1.000 total time=   0.0s\n",
      "[CV 4/5; 17/20] START C=10, kernel=linear.......................................\n",
      "[CV 4/5; 17/20] END ........C=10, kernel=linear;, score=1.000 total time=   0.0s\n",
      "[CV 5/5; 17/20] START C=10, kernel=linear.......................................\n",
      "[CV 5/5; 17/20] END ........C=10, kernel=linear;, score=1.000 total time=   0.0s\n",
      "[CV 1/5; 18/20] START C=10, kernel=poly.........................................\n",
      "[CV 1/5; 18/20] END ..........C=10, kernel=poly;, score=1.000 total time=   0.0s\n",
      "[CV 2/5; 18/20] START C=10, kernel=poly.........................................\n",
      "[CV 2/5; 18/20] END ..........C=10, kernel=poly;, score=1.000 total time=   0.0s\n",
      "[CV 3/5; 18/20] START C=10, kernel=poly.........................................\n",
      "[CV 3/5; 18/20] END ..........C=10, kernel=poly;, score=1.000 total time=   0.0s\n",
      "[CV 4/5; 18/20] START C=10, kernel=poly.........................................\n",
      "[CV 4/5; 18/20] END ..........C=10, kernel=poly;, score=1.000 total time=   0.0s\n",
      "[CV 5/5; 18/20] START C=10, kernel=poly.........................................\n",
      "[CV 5/5; 18/20] END ..........C=10, kernel=poly;, score=1.000 total time=   0.0s\n",
      "[CV 1/5; 19/20] START C=10, kernel=rbf..........................................\n",
      "[CV 1/5; 19/20] END ...........C=10, kernel=rbf;, score=0.986 total time=   0.0s\n",
      "[CV 2/5; 19/20] START C=10, kernel=rbf..........................................\n",
      "[CV 2/5; 19/20] END ...........C=10, kernel=rbf;, score=0.993 total time=   0.0s\n",
      "[CV 3/5; 19/20] START C=10, kernel=rbf..........................................\n",
      "[CV 3/5; 19/20] END ...........C=10, kernel=rbf;, score=1.000 total time=   0.0s\n",
      "[CV 4/5; 19/20] START C=10, kernel=rbf..........................................\n",
      "[CV 4/5; 19/20] END ...........C=10, kernel=rbf;, score=1.000 total time=   0.0s\n",
      "[CV 5/5; 19/20] START C=10, kernel=rbf..........................................\n",
      "[CV 5/5; 19/20] END ...........C=10, kernel=rbf;, score=0.993 total time=   0.0s\n",
      "[CV 1/5; 20/20] START C=10, kernel=sigmoid......................................\n",
      "[CV 1/5; 20/20] END .......C=10, kernel=sigmoid;, score=0.793 total time=   0.0s\n",
      "[CV 2/5; 20/20] START C=10, kernel=sigmoid......................................\n",
      "[CV 2/5; 20/20] END .......C=10, kernel=sigmoid;, score=0.738 total time=   0.0s\n",
      "[CV 3/5; 20/20] START C=10, kernel=sigmoid......................................\n",
      "[CV 3/5; 20/20] END .......C=10, kernel=sigmoid;, score=0.876 total time=   0.0s\n",
      "[CV 4/5; 20/20] START C=10, kernel=sigmoid......................................\n",
      "[CV 4/5; 20/20] END .......C=10, kernel=sigmoid;, score=0.910 total time=   0.0s\n",
      "[CV 5/5; 20/20] START C=10, kernel=sigmoid......................................\n",
      "[CV 5/5; 20/20] END .......C=10, kernel=sigmoid;, score=0.875 total time=   0.0s\n",
      "Best Score: 1.0\n",
      "Best Hyperparameters: {'C': 1, 'kernel': 'linear'}\n"
     ]
    }
   ],
   "source": [
    "from sklearn.model_selection import GridSearchCV\n",
    "parameters = {'kernel':('linear', 'poly', 'rbf', 'sigmoid'), 'C':[1, 3, 5, 7, 10]}\n",
    "result = GridSearchCV(classifier, parameters, refit=True, cv=None, verbose=10)\n",
    "result.fit(data, data.result)\n",
    "print('Best Score: %s' % result.best_score_)\n",
    "print('Best Hyperparameters: %s' % result.best_params_)"
   ]
  },
  {
   "cell_type": "code",
   "execution_count": null,
   "metadata": {},
   "outputs": [],
   "source": []
  }
 ],
 "metadata": {
  "colab": {
   "collapsed_sections": [],
   "machine_shape": "hm",
   "name": "Support Vector Machine (SVM) Classifier.ipynb",
   "provenance": []
  },
  "kernelspec": {
   "display_name": "Python 3 (ipykernel)",
   "language": "python",
   "name": "python3"
  },
  "language_info": {
   "codemirror_mode": {
    "name": "ipython",
    "version": 3
   },
   "file_extension": ".py",
   "mimetype": "text/x-python",
   "name": "python",
   "nbconvert_exporter": "python",
   "pygments_lexer": "ipython3",
   "version": "3.9.7"
  }
 },
 "nbformat": 4,
 "nbformat_minor": 1
}
